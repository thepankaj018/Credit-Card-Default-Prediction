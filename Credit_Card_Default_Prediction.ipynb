{
  "nbformat": 4,
  "nbformat_minor": 0,
  "metadata": {
    "colab": {
      "provenance": [],
      "collapsed_sections": [
        "K5QZ13OEpz2H",
        "lQ7QKXXCp7Bj",
        "448CDAPjqfQr",
        "KSlN3yHqYklG",
        "t6dVpIINYklI",
        "ijmpgYnKYklI",
        "-JiQyfWJYklI",
        "EM7whBJCYoAo",
        "fge-S5ZAYoAp",
        "85gYPyotYoAp",
        "RoGjAbkUYoAp",
        "4Of9eVA-YrdM",
        "iky9q4vBYrdO",
        "F6T5p64dYrdO",
        "y-Ehk30pYrdP",
        "bamQiAODYuh1",
        "QHF8YVU7Yuh3",
        "GwzvFGzlYuh3",
        "qYpmQ266Yuh3",
        "OH-pJp9IphqM",
        "bbFf2-_FphqN",
        "_ouA3fa0phqN",
        "Seke61FWphqN",
        "PIIx-8_IphqN",
        "t27r6nlMphqO",
        "r2jJGEOYphqO",
        "b0JNsNcRphqO",
        "BZR9WyysphqO",
        "jj7wYXLtphqO",
        "eZrbJ2SmphqO",
        "rFu4xreNphqO",
        "YJ55k-q6phqO",
        "gCFgpxoyphqP",
        "OVtJsKN_phqQ",
        "lssrdh5qphqQ",
        "U2RJ9gkRphqQ",
        "1M8mcRywphqQ",
        "tgIPom80phqQ",
        "JMzcOPDDphqR",
        "x-EpHcCOp1ci",
        "X_VqEhTip1ck",
        "8zGJKyg5p1ck",
        "PVzmfK_Ep1ck",
        "n3dbpmDWp1ck",
        "ylSl6qgtp1ck",
        "ZWILFDl5p1ck",
        "M7G43BXep1ck",
        "Ag9LCva-p1cl",
        "E6MkPsBcp1cl",
        "2cELzS2fp1cl",
        "3MPXvC8up1cl",
        "NC_X3p0fY2L0",
        "UV0SzAkaZNRQ",
        "YPEH6qLeZNRQ",
        "q29F0dvdveiT",
        "EXh0U9oCveiU",
        "22aHeOlLveiV",
        "g-ATYxFrGrvw",
        "Yfr_Vlr8HBkt",
        "8yEUt7NnHlrM",
        "tEA2Xm5dHt1r",
        "I79__PHVH19G",
        "Ou-I18pAyIpj",
        "fF3858GYyt-u",
        "4_0_7-oCpUZd",
        "hwyV_J3ipUZe",
        "3yB-zSqbpUZe",
        "dEUvejAfpUZe",
        "Fd15vwWVpUZf",
        "bn_IUdTipZyH",
        "49K5P_iCpZyH",
        "Nff-vKELpZyI",
        "kLW572S8pZyI",
        "dWbDXHzopZyI",
        "yLjJCtPM0KBk",
        "xiyOF9F70UgQ",
        "7wuGOrhz0itI",
        "id1riN9m0vUs",
        "578E2V7j08f6",
        "89xtkJwZ18nB",
        "67NQN5KX2AMe",
        "Iwf50b-R2tYG",
        "GMQiZwjn3iu7",
        "WVIkgGqN3qsr",
        "XkPnILGE3zoT",
        "Hlsf0x5436Go",
        "mT9DMSJo4nBL",
        "c49ITxTc407N",
        "OeJFEK0N496M",
        "9ExmJH0g5HBk",
        "cJNqERVU536h",
        "k5UmGsbsOxih",
        "T0VqWOYE6DLQ",
        "qBMux9mC6MCf",
        "-oLEiFgy-5Pf",
        "C74aWNz2AliB",
        "2DejudWSA-a0",
        "pEMng2IbBLp7",
        "rAdphbQ9Bhjc",
        "TNVZ9zx19K6k",
        "nqoHp30x9hH9",
        "rMDnDkt2B6du",
        "yiiVWRdJDDil",
        "1UUpS68QDMuG",
        "kexQrXU-DjzY",
        "T5CmagL3EC8N",
        "BhH2vgX9EjGr",
        "qjKvONjwE8ra",
        "P1XJ9OREExlT",
        "VFOzZv6IFROw",
        "TIqpNgepFxVj",
        "VfCC591jGiD4",
        "OB4l2ZhMeS1U",
        "ArJBuiUVfxKd",
        "4qY1EAkEfxKe",
        "PiV4Ypx8fxKe",
        "TfvqoZmBfxKf",
        "dJ2tPlVmpsJ0",
        "JWYfwnehpsJ1",
        "-jK_YjpMpsJ2",
        "HAih1iBOpsJ2",
        "zVGeBEFhpsJ2",
        "bmKjuQ-FpsJ3",
        "Fze-IPXLpx6K",
        "7AN1z2sKpx6M",
        "9PIHJqyupx6M",
        "_-qAgymDpx6N",
        "Z-hykwinpx6N",
        "h_CCil-SKHpo",
        "cBFFvTBNJzUa",
        "HvGl1hHyA_VK",
        "EyNgTHvd2WFk",
        "KH5McJBi2d8v",
        "iW_Lq9qf2h6X",
        "-Kee-DAl2viO",
        "gCX9965dhzqZ",
        "gIfDvo9L0UH2"
      ],
      "include_colab_link": true
    },
    "kernelspec": {
      "name": "python3",
      "display_name": "Python 3"
    },
    "language_info": {
      "name": "python"
    },
    "gpuClass": "standard"
  },
  "cells": [
    {
      "cell_type": "markdown",
      "metadata": {
        "id": "view-in-github",
        "colab_type": "text"
      },
      "source": [
        "<a href=\"https://colab.research.google.com/github/thepankaj018/Credit-Card-Default-Prediction/blob/main/Credit_Card_Default_Prediction.ipynb\" target=\"_parent\"><img src=\"https://colab.research.google.com/assets/colab-badge.svg\" alt=\"Open In Colab\"/></a>"
      ]
    },
    {
      "cell_type": "markdown",
      "source": [
        "# **Project Name**    - CREDIT CARD DEFAULT PREDICTION\n",
        "\n"
      ],
      "metadata": {
        "id": "vncDsAP0Gaoa"
      }
    },
    {
      "cell_type": "markdown",
      "source": [
        "##### **Project Type**    - Classification\n",
        "##### **Contribution**    - Individual\n"
      ],
      "metadata": {
        "id": "beRrZCGUAJYm"
      }
    },
    {
      "cell_type": "markdown",
      "source": [
        "# **Project Summary -**"
      ],
      "metadata": {
        "id": "FJNUwmbgGyua"
      }
    },
    {
      "cell_type": "markdown",
      "source": [
        "Write the summary here within 500-600 words."
      ],
      "metadata": {
        "id": "F6v_1wHtG2nS"
      }
    },
    {
      "cell_type": "markdown",
      "source": [
        "# **GitHub Link -**"
      ],
      "metadata": {
        "id": "w6K7xa23Elo4"
      }
    },
    {
      "cell_type": "markdown",
      "source": [
        "Provide your GitHub Link here."
      ],
      "metadata": {
        "id": "h1o69JH3Eqqn"
      }
    },
    {
      "cell_type": "markdown",
      "source": [
        "# **Problem Statement**\n"
      ],
      "metadata": {
        "id": "yQaldy8SH6Dl"
      }
    },
    {
      "cell_type": "markdown",
      "source": [
        "**This project is aimed at predicting the case of customers default payments in Taiwan. From the perspective of risk management, the result of predictive accuracy of the estimated probability of default will be more valuable than the binary result of classification - credible or not credible clients. We can use the K-S chart to evaluate which customers will default on their credit card payments.**"
      ],
      "metadata": {
        "id": "DpeJGUA3kjGy"
      }
    },
    {
      "cell_type": "markdown",
      "source": [
        "# ***Let's Begin !***"
      ],
      "metadata": {
        "id": "O_i_v8NEhb9l"
      }
    },
    {
      "cell_type": "markdown",
      "source": [
        "## ***1. Know Your Data***"
      ],
      "metadata": {
        "id": "HhfV-JJviCcP"
      }
    },
    {
      "cell_type": "markdown",
      "source": [
        "### Import Libraries"
      ],
      "metadata": {
        "id": "Y3lxredqlCYt"
      }
    },
    {
      "cell_type": "code",
      "source": [
        "# Import Libraries\n",
        "import numpy as np\n",
        "import pandas as pd\n",
        "import matplotlib.pyplot as plt\n",
        "%matplotlib inline\n",
        "import seaborn as sns\n",
        "plt.style.use('fivethirtyeight')\n",
        "import warnings\n",
        "warnings.filterwarnings('ignore')"
      ],
      "metadata": {
        "id": "M8Vqi-pPk-HR"
      },
      "execution_count": 2,
      "outputs": []
    },
    {
      "cell_type": "code",
      "source": [
        "pd.set_option('display.max_columns',None)"
      ],
      "metadata": {
        "id": "n4_8C-N-rknE"
      },
      "execution_count": 3,
      "outputs": []
    },
    {
      "cell_type": "markdown",
      "source": [
        "### Dataset Loading"
      ],
      "metadata": {
        "id": "3RnN4peoiCZX"
      }
    },
    {
      "cell_type": "code",
      "source": [
        "from google.colab import drive\n",
        "drive.mount('/content/drive')"
      ],
      "metadata": {
        "colab": {
          "base_uri": "https://localhost:8080/"
        },
        "id": "K_sbYL7zr69g",
        "outputId": "2d285c9a-421f-4ea9-b87c-2405754eac3b"
      },
      "execution_count": 4,
      "outputs": [
        {
          "output_type": "stream",
          "name": "stdout",
          "text": [
            "Mounted at /content/drive\n"
          ]
        }
      ]
    },
    {
      "cell_type": "code",
      "source": [
        "# Load Dataset\n",
        "file_path = '/content/drive/MyDrive/default of credit card clients.xls - Data.csv'\n",
        "df = pd.read_csv(file_path,header = 1)\n"
      ],
      "metadata": {
        "id": "4CkvbW_SlZ_R"
      },
      "execution_count": 5,
      "outputs": []
    },
    {
      "cell_type": "markdown",
      "source": [
        "### Dataset First View"
      ],
      "metadata": {
        "id": "x71ZqKXriCWQ"
      }
    },
    {
      "cell_type": "code",
      "source": [
        "# Dataset First Look\n",
        "df.head()"
      ],
      "metadata": {
        "id": "LWNFOSvLl09H",
        "colab": {
          "base_uri": "https://localhost:8080/",
          "height": 322
        },
        "outputId": "16dcb1d5-a957-4404-a54b-78e3ee0f3f5b"
      },
      "execution_count": 6,
      "outputs": [
        {
          "output_type": "execute_result",
          "data": {
            "text/plain": [
              "   ID  LIMIT_BAL  SEX  EDUCATION  MARRIAGE  AGE  PAY_0  PAY_2  PAY_3  PAY_4  \\\n",
              "0   1      20000    2          2         1   24      2      2     -1     -1   \n",
              "1   2     120000    2          2         2   26     -1      2      0      0   \n",
              "2   3      90000    2          2         2   34      0      0      0      0   \n",
              "3   4      50000    2          2         1   37      0      0      0      0   \n",
              "4   5      50000    1          2         1   57     -1      0     -1      0   \n",
              "\n",
              "   PAY_5  PAY_6  BILL_AMT1  BILL_AMT2  BILL_AMT3  BILL_AMT4  BILL_AMT5  \\\n",
              "0     -2     -2       3913       3102        689          0          0   \n",
              "1      0      2       2682       1725       2682       3272       3455   \n",
              "2      0      0      29239      14027      13559      14331      14948   \n",
              "3      0      0      46990      48233      49291      28314      28959   \n",
              "4      0      0       8617       5670      35835      20940      19146   \n",
              "\n",
              "   BILL_AMT6  PAY_AMT1  PAY_AMT2  PAY_AMT3  PAY_AMT4  PAY_AMT5  PAY_AMT6  \\\n",
              "0          0         0       689         0         0         0         0   \n",
              "1       3261         0      1000      1000      1000         0      2000   \n",
              "2      15549      1518      1500      1000      1000      1000      5000   \n",
              "3      29547      2000      2019      1200      1100      1069      1000   \n",
              "4      19131      2000     36681     10000      9000       689       679   \n",
              "\n",
              "   default payment next month  \n",
              "0                           1  \n",
              "1                           1  \n",
              "2                           0  \n",
              "3                           0  \n",
              "4                           0  "
            ],
            "text/html": [
              "\n",
              "  <div id=\"df-6cf1f0af-c9c9-4a99-94c6-ccb37964e08d\">\n",
              "    <div class=\"colab-df-container\">\n",
              "      <div>\n",
              "<style scoped>\n",
              "    .dataframe tbody tr th:only-of-type {\n",
              "        vertical-align: middle;\n",
              "    }\n",
              "\n",
              "    .dataframe tbody tr th {\n",
              "        vertical-align: top;\n",
              "    }\n",
              "\n",
              "    .dataframe thead th {\n",
              "        text-align: right;\n",
              "    }\n",
              "</style>\n",
              "<table border=\"1\" class=\"dataframe\">\n",
              "  <thead>\n",
              "    <tr style=\"text-align: right;\">\n",
              "      <th></th>\n",
              "      <th>ID</th>\n",
              "      <th>LIMIT_BAL</th>\n",
              "      <th>SEX</th>\n",
              "      <th>EDUCATION</th>\n",
              "      <th>MARRIAGE</th>\n",
              "      <th>AGE</th>\n",
              "      <th>PAY_0</th>\n",
              "      <th>PAY_2</th>\n",
              "      <th>PAY_3</th>\n",
              "      <th>PAY_4</th>\n",
              "      <th>PAY_5</th>\n",
              "      <th>PAY_6</th>\n",
              "      <th>BILL_AMT1</th>\n",
              "      <th>BILL_AMT2</th>\n",
              "      <th>BILL_AMT3</th>\n",
              "      <th>BILL_AMT4</th>\n",
              "      <th>BILL_AMT5</th>\n",
              "      <th>BILL_AMT6</th>\n",
              "      <th>PAY_AMT1</th>\n",
              "      <th>PAY_AMT2</th>\n",
              "      <th>PAY_AMT3</th>\n",
              "      <th>PAY_AMT4</th>\n",
              "      <th>PAY_AMT5</th>\n",
              "      <th>PAY_AMT6</th>\n",
              "      <th>default payment next month</th>\n",
              "    </tr>\n",
              "  </thead>\n",
              "  <tbody>\n",
              "    <tr>\n",
              "      <th>0</th>\n",
              "      <td>1</td>\n",
              "      <td>20000</td>\n",
              "      <td>2</td>\n",
              "      <td>2</td>\n",
              "      <td>1</td>\n",
              "      <td>24</td>\n",
              "      <td>2</td>\n",
              "      <td>2</td>\n",
              "      <td>-1</td>\n",
              "      <td>-1</td>\n",
              "      <td>-2</td>\n",
              "      <td>-2</td>\n",
              "      <td>3913</td>\n",
              "      <td>3102</td>\n",
              "      <td>689</td>\n",
              "      <td>0</td>\n",
              "      <td>0</td>\n",
              "      <td>0</td>\n",
              "      <td>0</td>\n",
              "      <td>689</td>\n",
              "      <td>0</td>\n",
              "      <td>0</td>\n",
              "      <td>0</td>\n",
              "      <td>0</td>\n",
              "      <td>1</td>\n",
              "    </tr>\n",
              "    <tr>\n",
              "      <th>1</th>\n",
              "      <td>2</td>\n",
              "      <td>120000</td>\n",
              "      <td>2</td>\n",
              "      <td>2</td>\n",
              "      <td>2</td>\n",
              "      <td>26</td>\n",
              "      <td>-1</td>\n",
              "      <td>2</td>\n",
              "      <td>0</td>\n",
              "      <td>0</td>\n",
              "      <td>0</td>\n",
              "      <td>2</td>\n",
              "      <td>2682</td>\n",
              "      <td>1725</td>\n",
              "      <td>2682</td>\n",
              "      <td>3272</td>\n",
              "      <td>3455</td>\n",
              "      <td>3261</td>\n",
              "      <td>0</td>\n",
              "      <td>1000</td>\n",
              "      <td>1000</td>\n",
              "      <td>1000</td>\n",
              "      <td>0</td>\n",
              "      <td>2000</td>\n",
              "      <td>1</td>\n",
              "    </tr>\n",
              "    <tr>\n",
              "      <th>2</th>\n",
              "      <td>3</td>\n",
              "      <td>90000</td>\n",
              "      <td>2</td>\n",
              "      <td>2</td>\n",
              "      <td>2</td>\n",
              "      <td>34</td>\n",
              "      <td>0</td>\n",
              "      <td>0</td>\n",
              "      <td>0</td>\n",
              "      <td>0</td>\n",
              "      <td>0</td>\n",
              "      <td>0</td>\n",
              "      <td>29239</td>\n",
              "      <td>14027</td>\n",
              "      <td>13559</td>\n",
              "      <td>14331</td>\n",
              "      <td>14948</td>\n",
              "      <td>15549</td>\n",
              "      <td>1518</td>\n",
              "      <td>1500</td>\n",
              "      <td>1000</td>\n",
              "      <td>1000</td>\n",
              "      <td>1000</td>\n",
              "      <td>5000</td>\n",
              "      <td>0</td>\n",
              "    </tr>\n",
              "    <tr>\n",
              "      <th>3</th>\n",
              "      <td>4</td>\n",
              "      <td>50000</td>\n",
              "      <td>2</td>\n",
              "      <td>2</td>\n",
              "      <td>1</td>\n",
              "      <td>37</td>\n",
              "      <td>0</td>\n",
              "      <td>0</td>\n",
              "      <td>0</td>\n",
              "      <td>0</td>\n",
              "      <td>0</td>\n",
              "      <td>0</td>\n",
              "      <td>46990</td>\n",
              "      <td>48233</td>\n",
              "      <td>49291</td>\n",
              "      <td>28314</td>\n",
              "      <td>28959</td>\n",
              "      <td>29547</td>\n",
              "      <td>2000</td>\n",
              "      <td>2019</td>\n",
              "      <td>1200</td>\n",
              "      <td>1100</td>\n",
              "      <td>1069</td>\n",
              "      <td>1000</td>\n",
              "      <td>0</td>\n",
              "    </tr>\n",
              "    <tr>\n",
              "      <th>4</th>\n",
              "      <td>5</td>\n",
              "      <td>50000</td>\n",
              "      <td>1</td>\n",
              "      <td>2</td>\n",
              "      <td>1</td>\n",
              "      <td>57</td>\n",
              "      <td>-1</td>\n",
              "      <td>0</td>\n",
              "      <td>-1</td>\n",
              "      <td>0</td>\n",
              "      <td>0</td>\n",
              "      <td>0</td>\n",
              "      <td>8617</td>\n",
              "      <td>5670</td>\n",
              "      <td>35835</td>\n",
              "      <td>20940</td>\n",
              "      <td>19146</td>\n",
              "      <td>19131</td>\n",
              "      <td>2000</td>\n",
              "      <td>36681</td>\n",
              "      <td>10000</td>\n",
              "      <td>9000</td>\n",
              "      <td>689</td>\n",
              "      <td>679</td>\n",
              "      <td>0</td>\n",
              "    </tr>\n",
              "  </tbody>\n",
              "</table>\n",
              "</div>\n",
              "      <button class=\"colab-df-convert\" onclick=\"convertToInteractive('df-6cf1f0af-c9c9-4a99-94c6-ccb37964e08d')\"\n",
              "              title=\"Convert this dataframe to an interactive table.\"\n",
              "              style=\"display:none;\">\n",
              "        \n",
              "  <svg xmlns=\"http://www.w3.org/2000/svg\" height=\"24px\"viewBox=\"0 0 24 24\"\n",
              "       width=\"24px\">\n",
              "    <path d=\"M0 0h24v24H0V0z\" fill=\"none\"/>\n",
              "    <path d=\"M18.56 5.44l.94 2.06.94-2.06 2.06-.94-2.06-.94-.94-2.06-.94 2.06-2.06.94zm-11 1L8.5 8.5l.94-2.06 2.06-.94-2.06-.94L8.5 2.5l-.94 2.06-2.06.94zm10 10l.94 2.06.94-2.06 2.06-.94-2.06-.94-.94-2.06-.94 2.06-2.06.94z\"/><path d=\"M17.41 7.96l-1.37-1.37c-.4-.4-.92-.59-1.43-.59-.52 0-1.04.2-1.43.59L10.3 9.45l-7.72 7.72c-.78.78-.78 2.05 0 2.83L4 21.41c.39.39.9.59 1.41.59.51 0 1.02-.2 1.41-.59l7.78-7.78 2.81-2.81c.8-.78.8-2.07 0-2.86zM5.41 20L4 18.59l7.72-7.72 1.47 1.35L5.41 20z\"/>\n",
              "  </svg>\n",
              "      </button>\n",
              "      \n",
              "  <style>\n",
              "    .colab-df-container {\n",
              "      display:flex;\n",
              "      flex-wrap:wrap;\n",
              "      gap: 12px;\n",
              "    }\n",
              "\n",
              "    .colab-df-convert {\n",
              "      background-color: #E8F0FE;\n",
              "      border: none;\n",
              "      border-radius: 50%;\n",
              "      cursor: pointer;\n",
              "      display: none;\n",
              "      fill: #1967D2;\n",
              "      height: 32px;\n",
              "      padding: 0 0 0 0;\n",
              "      width: 32px;\n",
              "    }\n",
              "\n",
              "    .colab-df-convert:hover {\n",
              "      background-color: #E2EBFA;\n",
              "      box-shadow: 0px 1px 2px rgba(60, 64, 67, 0.3), 0px 1px 3px 1px rgba(60, 64, 67, 0.15);\n",
              "      fill: #174EA6;\n",
              "    }\n",
              "\n",
              "    [theme=dark] .colab-df-convert {\n",
              "      background-color: #3B4455;\n",
              "      fill: #D2E3FC;\n",
              "    }\n",
              "\n",
              "    [theme=dark] .colab-df-convert:hover {\n",
              "      background-color: #434B5C;\n",
              "      box-shadow: 0px 1px 3px 1px rgba(0, 0, 0, 0.15);\n",
              "      filter: drop-shadow(0px 1px 2px rgba(0, 0, 0, 0.3));\n",
              "      fill: #FFFFFF;\n",
              "    }\n",
              "  </style>\n",
              "\n",
              "      <script>\n",
              "        const buttonEl =\n",
              "          document.querySelector('#df-6cf1f0af-c9c9-4a99-94c6-ccb37964e08d button.colab-df-convert');\n",
              "        buttonEl.style.display =\n",
              "          google.colab.kernel.accessAllowed ? 'block' : 'none';\n",
              "\n",
              "        async function convertToInteractive(key) {\n",
              "          const element = document.querySelector('#df-6cf1f0af-c9c9-4a99-94c6-ccb37964e08d');\n",
              "          const dataTable =\n",
              "            await google.colab.kernel.invokeFunction('convertToInteractive',\n",
              "                                                     [key], {});\n",
              "          if (!dataTable) return;\n",
              "\n",
              "          const docLinkHtml = 'Like what you see? Visit the ' +\n",
              "            '<a target=\"_blank\" href=https://colab.research.google.com/notebooks/data_table.ipynb>data table notebook</a>'\n",
              "            + ' to learn more about interactive tables.';\n",
              "          element.innerHTML = '';\n",
              "          dataTable['output_type'] = 'display_data';\n",
              "          await google.colab.output.renderOutput(dataTable, element);\n",
              "          const docLink = document.createElement('div');\n",
              "          docLink.innerHTML = docLinkHtml;\n",
              "          element.appendChild(docLink);\n",
              "        }\n",
              "      </script>\n",
              "    </div>\n",
              "  </div>\n",
              "  "
            ]
          },
          "metadata": {},
          "execution_count": 6
        }
      ]
    },
    {
      "cell_type": "markdown",
      "source": [
        "### Dataset Rows & Columns count"
      ],
      "metadata": {
        "id": "7hBIi_osiCS2"
      }
    },
    {
      "cell_type": "code",
      "source": [
        "# Dataset Rows & Columns count\n",
        "print(f'Nunber of rows are {df.shape[0]}')\n",
        "print(f'Number of columns are {df.shape[1]}')"
      ],
      "metadata": {
        "id": "Kllu7SJgmLij",
        "colab": {
          "base_uri": "https://localhost:8080/"
        },
        "outputId": "70167e4d-62e9-4aa6-c910-d81cd5454014"
      },
      "execution_count": 7,
      "outputs": [
        {
          "output_type": "stream",
          "name": "stdout",
          "text": [
            "Nunber of rows are 30000\n",
            "Number of columns are 25\n"
          ]
        }
      ]
    },
    {
      "cell_type": "markdown",
      "source": [
        "### Dataset Information"
      ],
      "metadata": {
        "id": "JlHwYmJAmNHm"
      }
    },
    {
      "cell_type": "code",
      "source": [
        "# Dataset Info\n",
        "df.info()"
      ],
      "metadata": {
        "id": "e9hRXRi6meOf",
        "colab": {
          "base_uri": "https://localhost:8080/"
        },
        "outputId": "f84bf506-56ee-4f30-d0f1-0123da1c11fa"
      },
      "execution_count": 8,
      "outputs": [
        {
          "output_type": "stream",
          "name": "stdout",
          "text": [
            "<class 'pandas.core.frame.DataFrame'>\n",
            "RangeIndex: 30000 entries, 0 to 29999\n",
            "Data columns (total 25 columns):\n",
            " #   Column                      Non-Null Count  Dtype\n",
            "---  ------                      --------------  -----\n",
            " 0   ID                          30000 non-null  int64\n",
            " 1   LIMIT_BAL                   30000 non-null  int64\n",
            " 2   SEX                         30000 non-null  int64\n",
            " 3   EDUCATION                   30000 non-null  int64\n",
            " 4   MARRIAGE                    30000 non-null  int64\n",
            " 5   AGE                         30000 non-null  int64\n",
            " 6   PAY_0                       30000 non-null  int64\n",
            " 7   PAY_2                       30000 non-null  int64\n",
            " 8   PAY_3                       30000 non-null  int64\n",
            " 9   PAY_4                       30000 non-null  int64\n",
            " 10  PAY_5                       30000 non-null  int64\n",
            " 11  PAY_6                       30000 non-null  int64\n",
            " 12  BILL_AMT1                   30000 non-null  int64\n",
            " 13  BILL_AMT2                   30000 non-null  int64\n",
            " 14  BILL_AMT3                   30000 non-null  int64\n",
            " 15  BILL_AMT4                   30000 non-null  int64\n",
            " 16  BILL_AMT5                   30000 non-null  int64\n",
            " 17  BILL_AMT6                   30000 non-null  int64\n",
            " 18  PAY_AMT1                    30000 non-null  int64\n",
            " 19  PAY_AMT2                    30000 non-null  int64\n",
            " 20  PAY_AMT3                    30000 non-null  int64\n",
            " 21  PAY_AMT4                    30000 non-null  int64\n",
            " 22  PAY_AMT5                    30000 non-null  int64\n",
            " 23  PAY_AMT6                    30000 non-null  int64\n",
            " 24  default payment next month  30000 non-null  int64\n",
            "dtypes: int64(25)\n",
            "memory usage: 5.7 MB\n"
          ]
        }
      ]
    },
    {
      "cell_type": "markdown",
      "source": [
        "#### Duplicate Values"
      ],
      "metadata": {
        "id": "35m5QtbWiB9F"
      }
    },
    {
      "cell_type": "code",
      "source": [
        "# Dataset Duplicate Value Count\n",
        "print(f'number of duplicates values are {df.duplicated().sum()}')"
      ],
      "metadata": {
        "id": "1sLdpKYkmox0",
        "colab": {
          "base_uri": "https://localhost:8080/"
        },
        "outputId": "29aaedb8-7692-46b2-cd64-64fe81a6eafe"
      },
      "execution_count": 9,
      "outputs": [
        {
          "output_type": "stream",
          "name": "stdout",
          "text": [
            "number of duplicates values are 0\n"
          ]
        }
      ]
    },
    {
      "cell_type": "markdown",
      "source": [
        "#### Missing Values/Null Values"
      ],
      "metadata": {
        "id": "PoPl-ycgm1ru"
      }
    },
    {
      "cell_type": "code",
      "source": [
        "# Missing Values/Null Values Count\n",
        "df.isnull().sum()"
      ],
      "metadata": {
        "id": "GgHWkxvamxVg",
        "colab": {
          "base_uri": "https://localhost:8080/"
        },
        "outputId": "220b96b4-eb59-432d-9ea3-90ddf25f0b6f"
      },
      "execution_count": 10,
      "outputs": [
        {
          "output_type": "execute_result",
          "data": {
            "text/plain": [
              "ID                            0\n",
              "LIMIT_BAL                     0\n",
              "SEX                           0\n",
              "EDUCATION                     0\n",
              "MARRIAGE                      0\n",
              "AGE                           0\n",
              "PAY_0                         0\n",
              "PAY_2                         0\n",
              "PAY_3                         0\n",
              "PAY_4                         0\n",
              "PAY_5                         0\n",
              "PAY_6                         0\n",
              "BILL_AMT1                     0\n",
              "BILL_AMT2                     0\n",
              "BILL_AMT3                     0\n",
              "BILL_AMT4                     0\n",
              "BILL_AMT5                     0\n",
              "BILL_AMT6                     0\n",
              "PAY_AMT1                      0\n",
              "PAY_AMT2                      0\n",
              "PAY_AMT3                      0\n",
              "PAY_AMT4                      0\n",
              "PAY_AMT5                      0\n",
              "PAY_AMT6                      0\n",
              "default payment next month    0\n",
              "dtype: int64"
            ]
          },
          "metadata": {},
          "execution_count": 10
        }
      ]
    },
    {
      "cell_type": "code",
      "source": [
        "# Visualizing the missing values\n",
        "import missingno as msno\n",
        "msno.bar(df)\n",
        "plt.show()"
      ],
      "metadata": {
        "id": "3q5wnI3om9sJ",
        "colab": {
          "base_uri": "https://localhost:8080/",
          "height": 592
        },
        "outputId": "cc466e83-98fa-4b9a-d028-f420e22db39d"
      },
      "execution_count": 11,
      "outputs": [
        {
          "output_type": "display_data",
          "data": {
            "text/plain": [
              "<Figure size 1800x720 with 3 Axes>"
            ],
            "image/png": "[encoded data removed]"
          },
          "metadata": {}
        }
      ]
    },
    {
      "cell_type": "markdown",
      "source": [
        "### What did you know about your dataset?"
      ],
      "metadata": {
        "id": "H0kj-8xxnORC"
      }
    },
    {
      "cell_type": "markdown",
      "source": [
        "1) There are 30000 rows and 25 columns present in dataset.\n",
        "\n",
        "2) Datatypes of variables present in datasets are integer.\n",
        "\n",
        "3) There is no duplicate entries in the dataset.\n",
        "\n",
        "4) There is no missing values present in the datasets.\n"
      ],
      "metadata": {
        "id": "gfoNAAC-nUe_"
      }
    },
    {
      "cell_type": "markdown",
      "source": [
        "## ***2. Understanding Your Variables***"
      ],
      "metadata": {
        "id": "nA9Y7ga8ng1Z"
      }
    },
    {
      "cell_type": "code",
      "source": [
        "# Dataset Columns\n",
        "df.columns"
      ],
      "metadata": {
        "id": "j7xfkqrt5Ag5",
        "colab": {
          "base_uri": "https://localhost:8080/"
        },
        "outputId": "39ab3cf2-c2e4-4996-c2f0-0404e093f220"
      },
      "execution_count": 12,
      "outputs": [
        {
          "output_type": "execute_result",
          "data": {
            "text/plain": [
              "Index(['ID', 'LIMIT_BAL', 'SEX', 'EDUCATION', 'MARRIAGE', 'AGE', 'PAY_0',\n",
              "       'PAY_2', 'PAY_3', 'PAY_4', 'PAY_5', 'PAY_6', 'BILL_AMT1', 'BILL_AMT2',\n",
              "       'BILL_AMT3', 'BILL_AMT4', 'BILL_AMT5', 'BILL_AMT6', 'PAY_AMT1',\n",
              "       'PAY_AMT2', 'PAY_AMT3', 'PAY_AMT4', 'PAY_AMT5', 'PAY_AMT6',\n",
              "       'default payment next month'],\n",
              "      dtype='object')"
            ]
          },
          "metadata": {},
          "execution_count": 12
        }
      ]
    },
    {
      "cell_type": "code",
      "source": [
        "# Dataset Describe\n",
        "df.describe().T.style.background_gradient(cmap='RdPu')"
      ],
      "metadata": {
        "id": "DnOaZdaE5Q5t",
        "colab": {
          "base_uri": "https://localhost:8080/",
          "height": 833
        },
        "outputId": "d11e7051-a94b-4126-efa3-7930c0c6d3fd"
      },
      "execution_count": 13,
      "outputs": [
        {
          "output_type": "execute_result",
          "data": {
            "text/plain": [
              "<pandas.io.formats.style.Styler at 0x7ff55ff532e0>"
            ],
            "text/html": [
              "<style type=\"text/css\">\n",
              "#T_54532_row0_col0, #T_54532_row1_col0, #T_54532_row2_col0, #T_54532_row2_col1, #T_54532_row2_col2, #T_54532_row2_col4, #T_54532_row2_col5, #T_54532_row2_col6, #T_54532_row2_col7, #T_54532_row3_col0, #T_54532_row3_col1, #T_54532_row3_col2, #T_54532_row3_col4, #T_54532_row3_col5, #T_54532_row3_col6, #T_54532_row3_col7, #T_54532_row4_col0, #T_54532_row4_col1, #T_54532_row4_col2, #T_54532_row4_col4, #T_54532_row4_col5, #T_54532_row4_col6, #T_54532_row4_col7, #T_54532_row5_col0, #T_54532_row5_col1, #T_54532_row5_col2, #T_54532_row5_col4, #T_54532_row5_col5, #T_54532_row5_col6, #T_54532_row5_col7, #T_54532_row6_col0, #T_54532_row6_col1, #T_54532_row6_col2, #T_54532_row6_col4, #T_54532_row6_col5, #T_54532_row6_col6, #T_54532_row6_col7, #T_54532_row7_col0, #T_54532_row7_col1, #T_54532_row7_col2, #T_54532_row7_col4, #T_54532_row7_col5, #T_54532_row7_col6, #T_54532_row7_col7, #T_54532_row8_col0, #T_54532_row8_col1, #T_54532_row8_col2, #T_54532_row8_col4, #T_54532_row8_col5, #T_54532_row8_col6, #T_54532_row8_col7, #T_54532_row9_col0, #T_54532_row9_col1, #T_54532_row9_col2, #T_54532_row9_col4, #T_54532_row9_col5, #T_54532_row9_col6, #T_54532_row9_col7, #T_54532_row10_col0, #T_54532_row10_col1, #T_54532_row10_col2, #T_54532_row10_col4, #T_54532_row10_col5, #T_54532_row10_col6, #T_54532_row10_col7, #T_54532_row11_col0, #T_54532_row11_col1, #T_54532_row11_col2, #T_54532_row11_col4, #T_54532_row11_col5, #T_54532_row11_col6, #T_54532_row11_col7, #T_54532_row12_col0, #T_54532_row13_col0, #T_54532_row14_col0, #T_54532_row15_col0, #T_54532_row16_col0, #T_54532_row17_col0, #T_54532_row17_col3, #T_54532_row18_col0, #T_54532_row19_col0, #T_54532_row20_col0, #T_54532_row21_col0, #T_54532_row22_col0, #T_54532_row23_col0, #T_54532_row23_col4, #T_54532_row24_col0, #T_54532_row24_col1, #T_54532_row24_col2, #T_54532_row24_col4, #T_54532_row24_col5, #T_54532_row24_col6, #T_54532_row24_col7 {\n",
              "  background-color: #fff7f3;\n",
              "  color: #000000;\n",
              "}\n",
              "#T_54532_row0_col1 {\n",
              "  background-color: #fee7e4;\n",
              "  color: #000000;\n",
              "}\n",
              "#T_54532_row0_col2 {\n",
              "  background-color: #feebe7;\n",
              "  color: #000000;\n",
              "}\n",
              "#T_54532_row0_col3, #T_54532_row2_col3, #T_54532_row3_col3, #T_54532_row4_col3, #T_54532_row5_col3, #T_54532_row6_col3, #T_54532_row7_col3, #T_54532_row8_col3, #T_54532_row9_col3, #T_54532_row10_col3, #T_54532_row11_col3, #T_54532_row18_col3, #T_54532_row19_col3, #T_54532_row20_col3, #T_54532_row21_col3, #T_54532_row22_col3, #T_54532_row23_col3, #T_54532_row24_col3 {\n",
              "  background-color: #54006d;\n",
              "  color: #f1f1f1;\n",
              "}\n",
              "#T_54532_row0_col4, #T_54532_row13_col5 {\n",
              "  background-color: #fddbd7;\n",
              "  color: #000000;\n",
              "}\n",
              "#T_54532_row0_col5 {\n",
              "  background-color: #fde4e0;\n",
              "  color: #000000;\n",
              "}\n",
              "#T_54532_row0_col6 {\n",
              "  background-color: #fde6e2;\n",
              "  color: #000000;\n",
              "}\n",
              "#T_54532_row0_col7, #T_54532_row19_col4, #T_54532_row20_col6, #T_54532_row21_col6, #T_54532_row22_col6, #T_54532_row23_col6 {\n",
              "  background-color: #fff4f0;\n",
              "  color: #000000;\n",
              "}\n",
              "#T_54532_row1_col1, #T_54532_row1_col2, #T_54532_row1_col3, #T_54532_row1_col4, #T_54532_row1_col5, #T_54532_row1_col6, #T_54532_row19_col7 {\n",
              "  background-color: #49006a;\n",
              "  color: #f1f1f1;\n",
              "}\n",
              "#T_54532_row1_col7 {\n",
              "  background-color: #e4429a;\n",
              "  color: #f1f1f1;\n",
              "}\n",
              "#T_54532_row12_col1 {\n",
              "  background-color: #fbb4bb;\n",
              "  color: #000000;\n",
              "}\n",
              "#T_54532_row12_col2 {\n",
              "  background-color: #e94b9c;\n",
              "  color: #f1f1f1;\n",
              "}\n",
              "#T_54532_row12_col3 {\n",
              "  background-color: #f769a1;\n",
              "  color: #f1f1f1;\n",
              "}\n",
              "#T_54532_row12_col4 {\n",
              "  background-color: #feeae7;\n",
              "  color: #000000;\n",
              "}\n",
              "#T_54532_row12_col5 {\n",
              "  background-color: #fdd9d6;\n",
              "  color: #000000;\n",
              "}\n",
              "#T_54532_row12_col6, #T_54532_row14_col1 {\n",
              "  background-color: #fcbcbd;\n",
              "  color: #000000;\n",
              "}\n",
              "#T_54532_row12_col7, #T_54532_row17_col7 {\n",
              "  background-color: #e84a9b;\n",
              "  color: #f1f1f1;\n",
              "}\n",
              "#T_54532_row13_col1 {\n",
              "  background-color: #fbb8bc;\n",
              "  color: #000000;\n",
              "}\n",
              "#T_54532_row13_col2, #T_54532_row16_col7 {\n",
              "  background-color: #ed549d;\n",
              "  color: #f1f1f1;\n",
              "}\n",
              "#T_54532_row13_col3 {\n",
              "  background-color: #a5017d;\n",
              "  color: #f1f1f1;\n",
              "}\n",
              "#T_54532_row13_col4 {\n",
              "  background-color: #feece9;\n",
              "  color: #000000;\n",
              "}\n",
              "#T_54532_row13_col6 {\n",
              "  background-color: #fcc0bf;\n",
              "  color: #000000;\n",
              "}\n",
              "#T_54532_row13_col7 {\n",
              "  background-color: #e5459a;\n",
              "  color: #f1f1f1;\n",
              "}\n",
              "#T_54532_row14_col2, #T_54532_row20_col7 {\n",
              "  background-color: #f05a9e;\n",
              "  color: #f1f1f1;\n",
              "}\n",
              "#T_54532_row14_col3 {\n",
              "  background-color: #f35f9f;\n",
              "  color: #f1f1f1;\n",
              "}\n",
              "#T_54532_row14_col4 {\n",
              "  background-color: #feeeea;\n",
              "  color: #000000;\n",
              "}\n",
              "#T_54532_row14_col5 {\n",
              "  background-color: #fdddd9;\n",
              "  color: #000000;\n",
              "}\n",
              "#T_54532_row14_col6, #T_54532_row22_col7 {\n",
              "  background-color: #fcc5c0;\n",
              "  color: #000000;\n",
              "}\n",
              "#T_54532_row14_col7 {\n",
              "  background-color: #4e006b;\n",
              "  color: #f1f1f1;\n",
              "}\n",
              "#T_54532_row15_col1 {\n",
              "  background-color: #fcc2bf;\n",
              "  color: #000000;\n",
              "}\n",
              "#T_54532_row15_col2 {\n",
              "  background-color: #f76ba2;\n",
              "  color: #f1f1f1;\n",
              "}\n",
              "#T_54532_row15_col3 {\n",
              "  background-color: #f76ea3;\n",
              "  color: #f1f1f1;\n",
              "}\n",
              "#T_54532_row15_col4 {\n",
              "  background-color: #feefeb;\n",
              "  color: #000000;\n",
              "}\n",
              "#T_54532_row15_col5, #T_54532_row20_col2 {\n",
              "  background-color: #fddedb;\n",
              "  color: #000000;\n",
              "}\n",
              "#T_54532_row15_col6 {\n",
              "  background-color: #fccac5;\n",
              "  color: #000000;\n",
              "}\n",
              "#T_54532_row15_col7 {\n",
              "  background-color: #f15c9f;\n",
              "  color: #f1f1f1;\n",
              "}\n",
              "#T_54532_row16_col1 {\n",
              "  background-color: #fcc7c3;\n",
              "  color: #000000;\n",
              "}\n",
              "#T_54532_row16_col2 {\n",
              "  background-color: #f877a6;\n",
              "  color: #f1f1f1;\n",
              "}\n",
              "#T_54532_row16_col3 {\n",
              "  background-color: #b10580;\n",
              "  color: #f1f1f1;\n",
              "}\n",
              "#T_54532_row16_col4, #T_54532_row18_col1, #T_54532_row19_col1 {\n",
              "  background-color: #fef1ed;\n",
              "  color: #000000;\n",
              "}\n",
              "#T_54532_row16_col5 {\n",
              "  background-color: #fddfdc;\n",
              "  color: #000000;\n",
              "}\n",
              "#T_54532_row16_col6 {\n",
              "  background-color: #fcceca;\n",
              "  color: #000000;\n",
              "}\n",
              "#T_54532_row17_col1 {\n",
              "  background-color: #fcc9c4;\n",
              "  color: #000000;\n",
              "}\n",
              "#T_54532_row17_col2 {\n",
              "  background-color: #f87aa8;\n",
              "  color: #f1f1f1;\n",
              "}\n",
              "#T_54532_row17_col4 {\n",
              "  background-color: #fff3ef;\n",
              "  color: #000000;\n",
              "}\n",
              "#T_54532_row17_col5, #T_54532_row21_col2, #T_54532_row22_col2 {\n",
              "  background-color: #fde1de;\n",
              "  color: #000000;\n",
              "}\n",
              "#T_54532_row17_col6 {\n",
              "  background-color: #fccfcb;\n",
              "  color: #000000;\n",
              "}\n",
              "#T_54532_row18_col2 {\n",
              "  background-color: #fde0dd;\n",
              "  color: #000000;\n",
              "}\n",
              "#T_54532_row18_col4, #T_54532_row18_col6, #T_54532_row19_col6 {\n",
              "  background-color: #fff3f0;\n",
              "  color: #000000;\n",
              "}\n",
              "#T_54532_row18_col5, #T_54532_row19_col5, #T_54532_row20_col5 {\n",
              "  background-color: #fff5f1;\n",
              "  color: #000000;\n",
              "}\n",
              "#T_54532_row18_col7 {\n",
              "  background-color: #f361a0;\n",
              "  color: #f1f1f1;\n",
              "}\n",
              "#T_54532_row19_col2 {\n",
              "  background-color: #fdd5d1;\n",
              "  color: #000000;\n",
              "}\n",
              "#T_54532_row20_col1, #T_54532_row21_col1, #T_54532_row22_col1, #T_54532_row23_col1 {\n",
              "  background-color: #fff2ee;\n",
              "  color: #000000;\n",
              "}\n",
              "#T_54532_row20_col4, #T_54532_row21_col4, #T_54532_row21_col5, #T_54532_row22_col4, #T_54532_row22_col5, #T_54532_row23_col5 {\n",
              "  background-color: #fff6f2;\n",
              "  color: #000000;\n",
              "}\n",
              "#T_54532_row21_col7 {\n",
              "  background-color: #faa1b6;\n",
              "  color: #000000;\n",
              "}\n",
              "#T_54532_row23_col2 {\n",
              "  background-color: #fdddda;\n",
              "  color: #000000;\n",
              "}\n",
              "#T_54532_row23_col7 {\n",
              "  background-color: #fbb2ba;\n",
              "  color: #000000;\n",
              "}\n",
              "</style>\n",
              "<table id=\"T_54532_\" class=\"dataframe\">\n",
              "  <thead>\n",
              "    <tr>\n",
              "      <th class=\"blank level0\" >&nbsp;</th>\n",
              "      <th class=\"col_heading level0 col0\" >count</th>\n",
              "      <th class=\"col_heading level0 col1\" >mean</th>\n",
              "      <th class=\"col_heading level0 col2\" >std</th>\n",
              "      <th class=\"col_heading level0 col3\" >min</th>\n",
              "      <th class=\"col_heading level0 col4\" >25%</th>\n",
              "      <th class=\"col_heading level0 col5\" >50%</th>\n",
              "      <th class=\"col_heading level0 col6\" >75%</th>\n",
              "      <th class=\"col_heading level0 col7\" >max</th>\n",
              "    </tr>\n",
              "  </thead>\n",
              "  <tbody>\n",
              "    <tr>\n",
              "      <th id=\"T_54532_level0_row0\" class=\"row_heading level0 row0\" >ID</th>\n",
              "      <td id=\"T_54532_row0_col0\" class=\"data row0 col0\" >30000.000000</td>\n",
              "      <td id=\"T_54532_row0_col1\" class=\"data row0 col1\" >15000.500000</td>\n",
              "      <td id=\"T_54532_row0_col2\" class=\"data row0 col2\" >8660.398374</td>\n",
              "      <td id=\"T_54532_row0_col3\" class=\"data row0 col3\" >1.000000</td>\n",
              "      <td id=\"T_54532_row0_col4\" class=\"data row0 col4\" >7500.750000</td>\n",
              "      <td id=\"T_54532_row0_col5\" class=\"data row0 col5\" >15000.500000</td>\n",
              "      <td id=\"T_54532_row0_col6\" class=\"data row0 col6\" >22500.250000</td>\n",
              "      <td id=\"T_54532_row0_col7\" class=\"data row0 col7\" >30000.000000</td>\n",
              "    </tr>\n",
              "    <tr>\n",
              "      <th id=\"T_54532_level0_row1\" class=\"row_heading level0 row1\" >LIMIT_BAL</th>\n",
              "      <td id=\"T_54532_row1_col0\" class=\"data row1 col0\" >30000.000000</td>\n",
              "      <td id=\"T_54532_row1_col1\" class=\"data row1 col1\" >167484.322667</td>\n",
              "      <td id=\"T_54532_row1_col2\" class=\"data row1 col2\" >129747.661567</td>\n",
              "      <td id=\"T_54532_row1_col3\" class=\"data row1 col3\" >10000.000000</td>\n",
              "      <td id=\"T_54532_row1_col4\" class=\"data row1 col4\" >50000.000000</td>\n",
              "      <td id=\"T_54532_row1_col5\" class=\"data row1 col5\" >140000.000000</td>\n",
              "      <td id=\"T_54532_row1_col6\" class=\"data row1 col6\" >240000.000000</td>\n",
              "      <td id=\"T_54532_row1_col7\" class=\"data row1 col7\" >1000000.000000</td>\n",
              "    </tr>\n",
              "    <tr>\n",
              "      <th id=\"T_54532_level0_row2\" class=\"row_heading level0 row2\" >SEX</th>\n",
              "      <td id=\"T_54532_row2_col0\" class=\"data row2 col0\" >30000.000000</td>\n",
              "      <td id=\"T_54532_row2_col1\" class=\"data row2 col1\" >1.603733</td>\n",
              "      <td id=\"T_54532_row2_col2\" class=\"data row2 col2\" >0.489129</td>\n",
              "      <td id=\"T_54532_row2_col3\" class=\"data row2 col3\" >1.000000</td>\n",
              "      <td id=\"T_54532_row2_col4\" class=\"data row2 col4\" >1.000000</td>\n",
              "      <td id=\"T_54532_row2_col5\" class=\"data row2 col5\" >2.000000</td>\n",
              "      <td id=\"T_54532_row2_col6\" class=\"data row2 col6\" >2.000000</td>\n",
              "      <td id=\"T_54532_row2_col7\" class=\"data row2 col7\" >2.000000</td>\n",
              "    </tr>\n",
              "    <tr>\n",
              "      <th id=\"T_54532_level0_row3\" class=\"row_heading level0 row3\" >EDUCATION</th>\n",
              "      <td id=\"T_54532_row3_col0\" class=\"data row3 col0\" >30000.000000</td>\n",
              "      <td id=\"T_54532_row3_col1\" class=\"data row3 col1\" >1.853133</td>\n",
              "      <td id=\"T_54532_row3_col2\" class=\"data row3 col2\" >0.790349</td>\n",
              "      <td id=\"T_54532_row3_col3\" class=\"data row3 col3\" >0.000000</td>\n",
              "      <td id=\"T_54532_row3_col4\" class=\"data row3 col4\" >1.000000</td>\n",
              "      <td id=\"T_54532_row3_col5\" class=\"data row3 col5\" >2.000000</td>\n",
              "      <td id=\"T_54532_row3_col6\" class=\"data row3 col6\" >2.000000</td>\n",
              "      <td id=\"T_54532_row3_col7\" class=\"data row3 col7\" >6.000000</td>\n",
              "    </tr>\n",
              "    <tr>\n",
              "      <th id=\"T_54532_level0_row4\" class=\"row_heading level0 row4\" >MARRIAGE</th>\n",
              "      <td id=\"T_54532_row4_col0\" class=\"data row4 col0\" >30000.000000</td>\n",
              "      <td id=\"T_54532_row4_col1\" class=\"data row4 col1\" >1.551867</td>\n",
              "      <td id=\"T_54532_row4_col2\" class=\"data row4 col2\" >0.521970</td>\n",
              "      <td id=\"T_54532_row4_col3\" class=\"data row4 col3\" >0.000000</td>\n",
              "      <td id=\"T_54532_row4_col4\" class=\"data row4 col4\" >1.000000</td>\n",
              "      <td id=\"T_54532_row4_col5\" class=\"data row4 col5\" >2.000000</td>\n",
              "      <td id=\"T_54532_row4_col6\" class=\"data row4 col6\" >2.000000</td>\n",
              "      <td id=\"T_54532_row4_col7\" class=\"data row4 col7\" >3.000000</td>\n",
              "    </tr>\n",
              "    <tr>\n",
              "      <th id=\"T_54532_level0_row5\" class=\"row_heading level0 row5\" >AGE</th>\n",
              "      <td id=\"T_54532_row5_col0\" class=\"data row5 col0\" >30000.000000</td>\n",
              "      <td id=\"T_54532_row5_col1\" class=\"data row5 col1\" >35.485500</td>\n",
              "      <td id=\"T_54532_row5_col2\" class=\"data row5 col2\" >9.217904</td>\n",
              "      <td id=\"T_54532_row5_col3\" class=\"data row5 col3\" >21.000000</td>\n",
              "      <td id=\"T_54532_row5_col4\" class=\"data row5 col4\" >28.000000</td>\n",
              "      <td id=\"T_54532_row5_col5\" class=\"data row5 col5\" >34.000000</td>\n",
              "      <td id=\"T_54532_row5_col6\" class=\"data row5 col6\" >41.000000</td>\n",
              "      <td id=\"T_54532_row5_col7\" class=\"data row5 col7\" >79.000000</td>\n",
              "    </tr>\n",
              "    <tr>\n",
              "      <th id=\"T_54532_level0_row6\" class=\"row_heading level0 row6\" >PAY_0</th>\n",
              "      <td id=\"T_54532_row6_col0\" class=\"data row6 col0\" >30000.000000</td>\n",
              "      <td id=\"T_54532_row6_col1\" class=\"data row6 col1\" >-0.016700</td>\n",
              "      <td id=\"T_54532_row6_col2\" class=\"data row6 col2\" >1.123802</td>\n",
              "      <td id=\"T_54532_row6_col3\" class=\"data row6 col3\" >-2.000000</td>\n",
              "      <td id=\"T_54532_row6_col4\" class=\"data row6 col4\" >-1.000000</td>\n",
              "      <td id=\"T_54532_row6_col5\" class=\"data row6 col5\" >0.000000</td>\n",
              "      <td id=\"T_54532_row6_col6\" class=\"data row6 col6\" >0.000000</td>\n",
              "      <td id=\"T_54532_row6_col7\" class=\"data row6 col7\" >8.000000</td>\n",
              "    </tr>\n",
              "    <tr>\n",
              "      <th id=\"T_54532_level0_row7\" class=\"row_heading level0 row7\" >PAY_2</th>\n",
              "      <td id=\"T_54532_row7_col0\" class=\"data row7 col0\" >30000.000000</td>\n",
              "      <td id=\"T_54532_row7_col1\" class=\"data row7 col1\" >-0.133767</td>\n",
              "      <td id=\"T_54532_row7_col2\" class=\"data row7 col2\" >1.197186</td>\n",
              "      <td id=\"T_54532_row7_col3\" class=\"data row7 col3\" >-2.000000</td>\n",
              "      <td id=\"T_54532_row7_col4\" class=\"data row7 col4\" >-1.000000</td>\n",
              "      <td id=\"T_54532_row7_col5\" class=\"data row7 col5\" >0.000000</td>\n",
              "      <td id=\"T_54532_row7_col6\" class=\"data row7 col6\" >0.000000</td>\n",
              "      <td id=\"T_54532_row7_col7\" class=\"data row7 col7\" >8.000000</td>\n",
              "    </tr>\n",
              "    <tr>\n",
              "      <th id=\"T_54532_level0_row8\" class=\"row_heading level0 row8\" >PAY_3</th>\n",
              "      <td id=\"T_54532_row8_col0\" class=\"data row8 col0\" >30000.000000</td>\n",
              "      <td id=\"T_54532_row8_col1\" class=\"data row8 col1\" >-0.166200</td>\n",
              "      <td id=\"T_54532_row8_col2\" class=\"data row8 col2\" >1.196868</td>\n",
              "      <td id=\"T_54532_row8_col3\" class=\"data row8 col3\" >-2.000000</td>\n",
              "      <td id=\"T_54532_row8_col4\" class=\"data row8 col4\" >-1.000000</td>\n",
              "      <td id=\"T_54532_row8_col5\" class=\"data row8 col5\" >0.000000</td>\n",
              "      <td id=\"T_54532_row8_col6\" class=\"data row8 col6\" >0.000000</td>\n",
              "      <td id=\"T_54532_row8_col7\" class=\"data row8 col7\" >8.000000</td>\n",
              "    </tr>\n",
              "    <tr>\n",
              "      <th id=\"T_54532_level0_row9\" class=\"row_heading level0 row9\" >PAY_4</th>\n",
              "      <td id=\"T_54532_row9_col0\" class=\"data row9 col0\" >30000.000000</td>\n",
              "      <td id=\"T_54532_row9_col1\" class=\"data row9 col1\" >-0.220667</td>\n",
              "      <td id=\"T_54532_row9_col2\" class=\"data row9 col2\" >1.169139</td>\n",
              "      <td id=\"T_54532_row9_col3\" class=\"data row9 col3\" >-2.000000</td>\n",
              "      <td id=\"T_54532_row9_col4\" class=\"data row9 col4\" >-1.000000</td>\n",
              "      <td id=\"T_54532_row9_col5\" class=\"data row9 col5\" >0.000000</td>\n",
              "      <td id=\"T_54532_row9_col6\" class=\"data row9 col6\" >0.000000</td>\n",
              "      <td id=\"T_54532_row9_col7\" class=\"data row9 col7\" >8.000000</td>\n",
              "    </tr>\n",
              "    <tr>\n",
              "      <th id=\"T_54532_level0_row10\" class=\"row_heading level0 row10\" >PAY_5</th>\n",
              "      <td id=\"T_54532_row10_col0\" class=\"data row10 col0\" >30000.000000</td>\n",
              "      <td id=\"T_54532_row10_col1\" class=\"data row10 col1\" >-0.266200</td>\n",
              "      <td id=\"T_54532_row10_col2\" class=\"data row10 col2\" >1.133187</td>\n",
              "      <td id=\"T_54532_row10_col3\" class=\"data row10 col3\" >-2.000000</td>\n",
              "      <td id=\"T_54532_row10_col4\" class=\"data row10 col4\" >-1.000000</td>\n",
              "      <td id=\"T_54532_row10_col5\" class=\"data row10 col5\" >0.000000</td>\n",
              "      <td id=\"T_54532_row10_col6\" class=\"data row10 col6\" >0.000000</td>\n",
              "      <td id=\"T_54532_row10_col7\" class=\"data row10 col7\" >8.000000</td>\n",
              "    </tr>\n",
              "    <tr>\n",
              "      <th id=\"T_54532_level0_row11\" class=\"row_heading level0 row11\" >PAY_6</th>\n",
              "      <td id=\"T_54532_row11_col0\" class=\"data row11 col0\" >30000.000000</td>\n",
              "      <td id=\"T_54532_row11_col1\" class=\"data row11 col1\" >-0.291100</td>\n",
              "      <td id=\"T_54532_row11_col2\" class=\"data row11 col2\" >1.149988</td>\n",
              "      <td id=\"T_54532_row11_col3\" class=\"data row11 col3\" >-2.000000</td>\n",
              "      <td id=\"T_54532_row11_col4\" class=\"data row11 col4\" >-1.000000</td>\n",
              "      <td id=\"T_54532_row11_col5\" class=\"data row11 col5\" >0.000000</td>\n",
              "      <td id=\"T_54532_row11_col6\" class=\"data row11 col6\" >0.000000</td>\n",
              "      <td id=\"T_54532_row11_col7\" class=\"data row11 col7\" >8.000000</td>\n",
              "    </tr>\n",
              "    <tr>\n",
              "      <th id=\"T_54532_level0_row12\" class=\"row_heading level0 row12\" >BILL_AMT1</th>\n",
              "      <td id=\"T_54532_row12_col0\" class=\"data row12 col0\" >30000.000000</td>\n",
              "      <td id=\"T_54532_row12_col1\" class=\"data row12 col1\" >51223.330900</td>\n",
              "      <td id=\"T_54532_row12_col2\" class=\"data row12 col2\" >73635.860576</td>\n",
              "      <td id=\"T_54532_row12_col3\" class=\"data row12 col3\" >-165580.000000</td>\n",
              "      <td id=\"T_54532_row12_col4\" class=\"data row12 col4\" >3558.750000</td>\n",
              "      <td id=\"T_54532_row12_col5\" class=\"data row12 col5\" >22381.500000</td>\n",
              "      <td id=\"T_54532_row12_col6\" class=\"data row12 col6\" >67091.000000</td>\n",
              "      <td id=\"T_54532_row12_col7\" class=\"data row12 col7\" >964511.000000</td>\n",
              "    </tr>\n",
              "    <tr>\n",
              "      <th id=\"T_54532_level0_row13\" class=\"row_heading level0 row13\" >BILL_AMT2</th>\n",
              "      <td id=\"T_54532_row13_col0\" class=\"data row13 col0\" >30000.000000</td>\n",
              "      <td id=\"T_54532_row13_col1\" class=\"data row13 col1\" >49179.075167</td>\n",
              "      <td id=\"T_54532_row13_col2\" class=\"data row13 col2\" >71173.768783</td>\n",
              "      <td id=\"T_54532_row13_col3\" class=\"data row13 col3\" >-69777.000000</td>\n",
              "      <td id=\"T_54532_row13_col4\" class=\"data row13 col4\" >2984.750000</td>\n",
              "      <td id=\"T_54532_row13_col5\" class=\"data row13 col5\" >21200.000000</td>\n",
              "      <td id=\"T_54532_row13_col6\" class=\"data row13 col6\" >64006.250000</td>\n",
              "      <td id=\"T_54532_row13_col7\" class=\"data row13 col7\" >983931.000000</td>\n",
              "    </tr>\n",
              "    <tr>\n",
              "      <th id=\"T_54532_level0_row14\" class=\"row_heading level0 row14\" >BILL_AMT3</th>\n",
              "      <td id=\"T_54532_row14_col0\" class=\"data row14 col0\" >30000.000000</td>\n",
              "      <td id=\"T_54532_row14_col1\" class=\"data row14 col1\" >47013.154800</td>\n",
              "      <td id=\"T_54532_row14_col2\" class=\"data row14 col2\" >69349.387427</td>\n",
              "      <td id=\"T_54532_row14_col3\" class=\"data row14 col3\" >-157264.000000</td>\n",
              "      <td id=\"T_54532_row14_col4\" class=\"data row14 col4\" >2666.250000</td>\n",
              "      <td id=\"T_54532_row14_col5\" class=\"data row14 col5\" >20088.500000</td>\n",
              "      <td id=\"T_54532_row14_col6\" class=\"data row14 col6\" >60164.750000</td>\n",
              "      <td id=\"T_54532_row14_col7\" class=\"data row14 col7\" >1664089.000000</td>\n",
              "    </tr>\n",
              "    <tr>\n",
              "      <th id=\"T_54532_level0_row15\" class=\"row_heading level0 row15\" >BILL_AMT4</th>\n",
              "      <td id=\"T_54532_row15_col0\" class=\"data row15 col0\" >30000.000000</td>\n",
              "      <td id=\"T_54532_row15_col1\" class=\"data row15 col1\" >43262.948967</td>\n",
              "      <td id=\"T_54532_row15_col2\" class=\"data row15 col2\" >64332.856134</td>\n",
              "      <td id=\"T_54532_row15_col3\" class=\"data row15 col3\" >-170000.000000</td>\n",
              "      <td id=\"T_54532_row15_col4\" class=\"data row15 col4\" >2326.750000</td>\n",
              "      <td id=\"T_54532_row15_col5\" class=\"data row15 col5\" >19052.000000</td>\n",
              "      <td id=\"T_54532_row15_col6\" class=\"data row15 col6\" >54506.000000</td>\n",
              "      <td id=\"T_54532_row15_col7\" class=\"data row15 col7\" >891586.000000</td>\n",
              "    </tr>\n",
              "    <tr>\n",
              "      <th id=\"T_54532_level0_row16\" class=\"row_heading level0 row16\" >BILL_AMT5</th>\n",
              "      <td id=\"T_54532_row16_col0\" class=\"data row16 col0\" >30000.000000</td>\n",
              "      <td id=\"T_54532_row16_col1\" class=\"data row16 col1\" >40311.400967</td>\n",
              "      <td id=\"T_54532_row16_col2\" class=\"data row16 col2\" >60797.155770</td>\n",
              "      <td id=\"T_54532_row16_col3\" class=\"data row16 col3\" >-81334.000000</td>\n",
              "      <td id=\"T_54532_row16_col4\" class=\"data row16 col4\" >1763.000000</td>\n",
              "      <td id=\"T_54532_row16_col5\" class=\"data row16 col5\" >18104.500000</td>\n",
              "      <td id=\"T_54532_row16_col6\" class=\"data row16 col6\" >50190.500000</td>\n",
              "      <td id=\"T_54532_row16_col7\" class=\"data row16 col7\" >927171.000000</td>\n",
              "    </tr>\n",
              "    <tr>\n",
              "      <th id=\"T_54532_level0_row17\" class=\"row_heading level0 row17\" >BILL_AMT6</th>\n",
              "      <td id=\"T_54532_row17_col0\" class=\"data row17 col0\" >30000.000000</td>\n",
              "      <td id=\"T_54532_row17_col1\" class=\"data row17 col1\" >38871.760400</td>\n",
              "      <td id=\"T_54532_row17_col2\" class=\"data row17 col2\" >59554.107537</td>\n",
              "      <td id=\"T_54532_row17_col3\" class=\"data row17 col3\" >-339603.000000</td>\n",
              "      <td id=\"T_54532_row17_col4\" class=\"data row17 col4\" >1256.000000</td>\n",
              "      <td id=\"T_54532_row17_col5\" class=\"data row17 col5\" >17071.000000</td>\n",
              "      <td id=\"T_54532_row17_col6\" class=\"data row17 col6\" >49198.250000</td>\n",
              "      <td id=\"T_54532_row17_col7\" class=\"data row17 col7\" >961664.000000</td>\n",
              "    </tr>\n",
              "    <tr>\n",
              "      <th id=\"T_54532_level0_row18\" class=\"row_heading level0 row18\" >PAY_AMT1</th>\n",
              "      <td id=\"T_54532_row18_col0\" class=\"data row18 col0\" >30000.000000</td>\n",
              "      <td id=\"T_54532_row18_col1\" class=\"data row18 col1\" >5663.580500</td>\n",
              "      <td id=\"T_54532_row18_col2\" class=\"data row18 col2\" >16563.280354</td>\n",
              "      <td id=\"T_54532_row18_col3\" class=\"data row18 col3\" >0.000000</td>\n",
              "      <td id=\"T_54532_row18_col4\" class=\"data row18 col4\" >1000.000000</td>\n",
              "      <td id=\"T_54532_row18_col5\" class=\"data row18 col5\" >2100.000000</td>\n",
              "      <td id=\"T_54532_row18_col6\" class=\"data row18 col6\" >5006.000000</td>\n",
              "      <td id=\"T_54532_row18_col7\" class=\"data row18 col7\" >873552.000000</td>\n",
              "    </tr>\n",
              "    <tr>\n",
              "      <th id=\"T_54532_level0_row19\" class=\"row_heading level0 row19\" >PAY_AMT2</th>\n",
              "      <td id=\"T_54532_row19_col0\" class=\"data row19 col0\" >30000.000000</td>\n",
              "      <td id=\"T_54532_row19_col1\" class=\"data row19 col1\" >5921.163500</td>\n",
              "      <td id=\"T_54532_row19_col2\" class=\"data row19 col2\" >23040.870402</td>\n",
              "      <td id=\"T_54532_row19_col3\" class=\"data row19 col3\" >0.000000</td>\n",
              "      <td id=\"T_54532_row19_col4\" class=\"data row19 col4\" >833.000000</td>\n",
              "      <td id=\"T_54532_row19_col5\" class=\"data row19 col5\" >2009.000000</td>\n",
              "      <td id=\"T_54532_row19_col6\" class=\"data row19 col6\" >5000.000000</td>\n",
              "      <td id=\"T_54532_row19_col7\" class=\"data row19 col7\" >1684259.000000</td>\n",
              "    </tr>\n",
              "    <tr>\n",
              "      <th id=\"T_54532_level0_row20\" class=\"row_heading level0 row20\" >PAY_AMT3</th>\n",
              "      <td id=\"T_54532_row20_col0\" class=\"data row20 col0\" >30000.000000</td>\n",
              "      <td id=\"T_54532_row20_col1\" class=\"data row20 col1\" >5225.681500</td>\n",
              "      <td id=\"T_54532_row20_col2\" class=\"data row20 col2\" >17606.961470</td>\n",
              "      <td id=\"T_54532_row20_col3\" class=\"data row20 col3\" >0.000000</td>\n",
              "      <td id=\"T_54532_row20_col4\" class=\"data row20 col4\" >390.000000</td>\n",
              "      <td id=\"T_54532_row20_col5\" class=\"data row20 col5\" >1800.000000</td>\n",
              "      <td id=\"T_54532_row20_col6\" class=\"data row20 col6\" >4505.000000</td>\n",
              "      <td id=\"T_54532_row20_col7\" class=\"data row20 col7\" >896040.000000</td>\n",
              "    </tr>\n",
              "    <tr>\n",
              "      <th id=\"T_54532_level0_row21\" class=\"row_heading level0 row21\" >PAY_AMT4</th>\n",
              "      <td id=\"T_54532_row21_col0\" class=\"data row21 col0\" >30000.000000</td>\n",
              "      <td id=\"T_54532_row21_col1\" class=\"data row21 col1\" >4826.076867</td>\n",
              "      <td id=\"T_54532_row21_col2\" class=\"data row21 col2\" >15666.159744</td>\n",
              "      <td id=\"T_54532_row21_col3\" class=\"data row21 col3\" >0.000000</td>\n",
              "      <td id=\"T_54532_row21_col4\" class=\"data row21 col4\" >296.000000</td>\n",
              "      <td id=\"T_54532_row21_col5\" class=\"data row21 col5\" >1500.000000</td>\n",
              "      <td id=\"T_54532_row21_col6\" class=\"data row21 col6\" >4013.250000</td>\n",
              "      <td id=\"T_54532_row21_col7\" class=\"data row21 col7\" >621000.000000</td>\n",
              "    </tr>\n",
              "    <tr>\n",
              "      <th id=\"T_54532_level0_row22\" class=\"row_heading level0 row22\" >PAY_AMT5</th>\n",
              "      <td id=\"T_54532_row22_col0\" class=\"data row22 col0\" >30000.000000</td>\n",
              "      <td id=\"T_54532_row22_col1\" class=\"data row22 col1\" >4799.387633</td>\n",
              "      <td id=\"T_54532_row22_col2\" class=\"data row22 col2\" >15278.305679</td>\n",
              "      <td id=\"T_54532_row22_col3\" class=\"data row22 col3\" >0.000000</td>\n",
              "      <td id=\"T_54532_row22_col4\" class=\"data row22 col4\" >252.500000</td>\n",
              "      <td id=\"T_54532_row22_col5\" class=\"data row22 col5\" >1500.000000</td>\n",
              "      <td id=\"T_54532_row22_col6\" class=\"data row22 col6\" >4031.500000</td>\n",
              "      <td id=\"T_54532_row22_col7\" class=\"data row22 col7\" >426529.000000</td>\n",
              "    </tr>\n",
              "    <tr>\n",
              "      <th id=\"T_54532_level0_row23\" class=\"row_heading level0 row23\" >PAY_AMT6</th>\n",
              "      <td id=\"T_54532_row23_col0\" class=\"data row23 col0\" >30000.000000</td>\n",
              "      <td id=\"T_54532_row23_col1\" class=\"data row23 col1\" >5215.502567</td>\n",
              "      <td id=\"T_54532_row23_col2\" class=\"data row23 col2\" >17777.465775</td>\n",
              "      <td id=\"T_54532_row23_col3\" class=\"data row23 col3\" >0.000000</td>\n",
              "      <td id=\"T_54532_row23_col4\" class=\"data row23 col4\" >117.750000</td>\n",
              "      <td id=\"T_54532_row23_col5\" class=\"data row23 col5\" >1500.000000</td>\n",
              "      <td id=\"T_54532_row23_col6\" class=\"data row23 col6\" >4000.000000</td>\n",
              "      <td id=\"T_54532_row23_col7\" class=\"data row23 col7\" >528666.000000</td>\n",
              "    </tr>\n",
              "    <tr>\n",
              "      <th id=\"T_54532_level0_row24\" class=\"row_heading level0 row24\" >default payment next month</th>\n",
              "      <td id=\"T_54532_row24_col0\" class=\"data row24 col0\" >30000.000000</td>\n",
              "      <td id=\"T_54532_row24_col1\" class=\"data row24 col1\" >0.221200</td>\n",
              "      <td id=\"T_54532_row24_col2\" class=\"data row24 col2\" >0.415062</td>\n",
              "      <td id=\"T_54532_row24_col3\" class=\"data row24 col3\" >0.000000</td>\n",
              "      <td id=\"T_54532_row24_col4\" class=\"data row24 col4\" >0.000000</td>\n",
              "      <td id=\"T_54532_row24_col5\" class=\"data row24 col5\" >0.000000</td>\n",
              "      <td id=\"T_54532_row24_col6\" class=\"data row24 col6\" >0.000000</td>\n",
              "      <td id=\"T_54532_row24_col7\" class=\"data row24 col7\" >1.000000</td>\n",
              "    </tr>\n",
              "  </tbody>\n",
              "</table>\n"
            ]
          },
          "metadata": {},
          "execution_count": 13
        }
      ]
    },
    {
      "cell_type": "markdown",
      "source": [
        "### Variables Description "
      ],
      "metadata": {
        "id": "PBTbrJXOngz2"
      }
    },
    {
      "cell_type": "markdown",
      "source": [
        "* ID: ID of each client\n",
        "* LIMIT_BAL: Amount of given credit in NT dollars (includes individual and family/supplementary credit)\n",
        "* SEX: Gender (1=male, 2=female)\n",
        "* EDUCATION: (1=graduate school, 2=university, 3=high school, 0,4,5,6 = others)\n",
        "* MARRIAGE: Marital status (1=married, 2=single, 3=others,0=others)\n",
        "* AGE: Age in years\n",
        "* PAY_0: Repayment status in September, 2005 (-2 = No consumption, -1 = paid in full, 1=payment delay for one month, 2=payment delay for two months, ... 8=payment delay for eight months, 9=payment delay for nine months and above)\n",
        "* PAY_2: Repayment status in August, 2005 (scale same as above)\n",
        "* PAY_3: Repayment status in July, 2005 (scale same as above)\n",
        "* PAY_4: Repayment status in June, 2005 (scale same as above)\n",
        "* PAY_5: Repayment status in May, 2005 (scale same as above)\n",
        "* PAY_6: Repayment status in April, 2005 (scale same as above)\n",
        "* BILL_AMT1: Amount of bill statement in September, 2005 (NT dollar)\n",
        "* BILL_AMT2: Amount of bill statement in August, 2005 (NT dollar)\n",
        "* BILL_AMT3: Amount of bill statement in July, 2005 (NT dollar)\n",
        "* BILL_AMT4: Amount of bill statement in June, 2005 (NT dollar)\n",
        "* BILL_AMT5: Amount of bill statement in May, 2005 (NT dollar)\n",
        "* BILL_AMT6: Amount of bill statement in April, 2005 (NT dollar)\n",
        "* PAY_AMT1: Amount of previous payment in September, 2005 (NT dollar)\n",
        "* PAY_AMT2: Amount of previous payment in August, 2005 (NT dollar)\n",
        "* PAY_AMT3: Amount of previous payment in July, 2005 (NT dollar)\n",
        "* PAY_AMT4: Amount of previous payment in June, 2005 (NT dollar)\n",
        "* PAY_AMT5: Amount of previous payment in May, 2005 (NT dollar)\n",
        "* PAY_AMT6: Amount of previous payment in April, 2005 (NT dollar)\n",
        "* default.payment.next.month: Default payment (1=yes, 0=no)"
      ],
      "metadata": {
        "id": "aJV4KIxSnxay"
      }
    },
    {
      "cell_type": "markdown",
      "source": [
        "### Check Unique Values for each variable."
      ],
      "metadata": {
        "id": "u3PMJOP6ngxN"
      }
    },
    {
      "cell_type": "code",
      "source": [
        "columns = ['LIMIT_BAL', 'SEX', 'EDUCATION', 'MARRIAGE', 'AGE', 'PAY_0',\n",
        "       'PAY_2', 'PAY_3', 'PAY_4', 'PAY_5', 'PAY_6','default payment next month']"
      ],
      "metadata": {
        "id": "D3Ti3tFb4qEZ"
      },
      "execution_count": 14,
      "outputs": []
    },
    {
      "cell_type": "code",
      "source": [
        "# Check Unique Values for each variable.\n",
        "for elem in columns:\n",
        "  print(\"-\"*100)\n",
        "  print(\" \")\n",
        "  print(f'Unique values present in {elem} are')\n",
        "  print(\" \")\n",
        "  print(df[elem].unique())\n",
        "  print(\" \")\n",
        "  print(\"*\"*100)"
      ],
      "metadata": {
        "id": "zms12Yq5n-jE",
        "colab": {
          "base_uri": "https://localhost:8080/"
        },
        "outputId": "c42aca71-6468-47f9-ff71-19de627d92bb"
      },
      "execution_count": 15,
      "outputs": [
        {
          "output_type": "stream",
          "name": "stdout",
          "text": [
            "----------------------------------------------------------------------------------------------------\n",
            " \n",
            "Unique values present in LIMIT_BAL are\n",
            " \n",
            "[  20000  120000   90000   50000  500000  100000  140000  200000  260000\n",
            "  630000   70000  250000  320000  360000  180000  130000  450000   60000\n",
            "  230000  160000  280000   10000   40000  210000  150000  380000  310000\n",
            "  400000   80000  290000  340000  300000   30000  240000  470000  480000\n",
            "  350000  330000  110000  420000  170000  370000  270000  220000  190000\n",
            "  510000  460000  440000  410000  490000  390000  580000  600000  620000\n",
            "  610000  700000  670000  680000  430000  550000  540000 1000000  530000\n",
            "  710000  560000  520000  750000  640000   16000  570000  590000  660000\n",
            "  720000  327680  740000  800000  760000  690000  650000  780000  730000]\n",
            " \n",
            "****************************************************************************************************\n",
            "----------------------------------------------------------------------------------------------------\n",
            " \n",
            "Unique values present in SEX are\n",
            " \n",
            "[2 1]\n",
            " \n",
            "****************************************************************************************************\n",
            "----------------------------------------------------------------------------------------------------\n",
            " \n",
            "Unique values present in EDUCATION are\n",
            " \n",
            "[2 1 3 5 4 6 0]\n",
            " \n",
            "****************************************************************************************************\n",
            "----------------------------------------------------------------------------------------------------\n",
            " \n",
            "Unique values present in MARRIAGE are\n",
            " \n",
            "[1 2 3 0]\n",
            " \n",
            "****************************************************************************************************\n",
            "----------------------------------------------------------------------------------------------------\n",
            " \n",
            "Unique values present in AGE are\n",
            " \n",
            "[24 26 34 37 57 29 23 28 35 51 41 30 49 39 40 27 47 33 32 54 58 22 25 31\n",
            " 46 42 43 45 56 44 53 38 63 36 52 48 55 60 50 75 61 73 59 21 67 66 62 70\n",
            " 72 64 65 71 69 68 79 74]\n",
            " \n",
            "****************************************************************************************************\n",
            "----------------------------------------------------------------------------------------------------\n",
            " \n",
            "Unique values present in PAY_0 are\n",
            " \n",
            "[ 2 -1  0 -2  1  3  4  8  7  5  6]\n",
            " \n",
            "****************************************************************************************************\n",
            "----------------------------------------------------------------------------------------------------\n",
            " \n",
            "Unique values present in PAY_2 are\n",
            " \n",
            "[ 2  0 -1 -2  3  5  7  4  1  6  8]\n",
            " \n",
            "****************************************************************************************************\n",
            "----------------------------------------------------------------------------------------------------\n",
            " \n",
            "Unique values present in PAY_3 are\n",
            " \n",
            "[-1  0  2 -2  3  4  6  7  1  5  8]\n",
            " \n",
            "****************************************************************************************************\n",
            "----------------------------------------------------------------------------------------------------\n",
            " \n",
            "Unique values present in PAY_4 are\n",
            " \n",
            "[-1  0 -2  2  3  4  5  7  6  1  8]\n",
            " \n",
            "****************************************************************************************************\n",
            "----------------------------------------------------------------------------------------------------\n",
            " \n",
            "Unique values present in PAY_5 are\n",
            " \n",
            "[-2  0 -1  2  3  5  4  7  8  6]\n",
            " \n",
            "****************************************************************************************************\n",
            "----------------------------------------------------------------------------------------------------\n",
            " \n",
            "Unique values present in PAY_6 are\n",
            " \n",
            "[-2  2  0 -1  3  6  4  7  8  5]\n",
            " \n",
            "****************************************************************************************************\n",
            "----------------------------------------------------------------------------------------------------\n",
            " \n",
            "Unique values present in default payment next month are\n",
            " \n",
            "[1 0]\n",
            " \n",
            "****************************************************************************************************\n"
          ]
        }
      ]
    },
    {
      "cell_type": "markdown",
      "source": [
        "## 3. ***Data Wrangling***"
      ],
      "metadata": {
        "id": "dauF4eBmngu3"
      }
    },
    {
      "cell_type": "markdown",
      "source": [
        "### Data Wrangling Code"
      ],
      "metadata": {
        "id": "bKJF3rekwFvQ"
      }
    },
    {
      "cell_type": "code",
      "source": [
        "# Write your code to make your dataset analysis ready."
      ],
      "metadata": {
        "id": "wk-9a2fpoLcV"
      },
      "execution_count": 16,
      "outputs": []
    },
    {
      "cell_type": "code",
      "source": [
        "# Droping the column \"ID\"\n",
        "df.drop(columns = [\"ID\"],inplace = True)"
      ],
      "metadata": {
        "id": "OhHVN6cT5WL2"
      },
      "execution_count": 17,
      "outputs": []
    },
    {
      "cell_type": "code",
      "source": [
        "# Renaming column 'default payment next month'\n",
        "df.rename(columns = {'default payment next month':'IsDefaulter'},inplace = True)"
      ],
      "metadata": {
        "id": "US1tJDcf54So"
      },
      "execution_count": 18,
      "outputs": []
    },
    {
      "cell_type": "code",
      "source": [
        "continous_variable = ['LIMIT_BAL','BILL_AMT1', 'BILL_AMT2',\n",
        "       'BILL_AMT3', 'BILL_AMT4', 'BILL_AMT5', 'BILL_AMT6', 'PAY_AMT1',\n",
        "       'PAY_AMT2', 'PAY_AMT3', 'PAY_AMT4', 'PAY_AMT5', 'PAY_AMT6']"
      ],
      "metadata": {
        "id": "mB_mrWCV-0d9"
      },
      "execution_count": 19,
      "outputs": []
    },
    {
      "cell_type": "code",
      "source": [
        "len(continous_variable)"
      ],
      "metadata": {
        "colab": {
          "base_uri": "https://localhost:8080/"
        },
        "id": "UMujnvAhAnzb",
        "outputId": "5f1c6bc2-c04d-4c15-f605-2db80a39b8f1"
      },
      "execution_count": 20,
      "outputs": [
        {
          "output_type": "execute_result",
          "data": {
            "text/plain": [
              "13"
            ]
          },
          "metadata": {},
          "execution_count": 20
        }
      ]
    },
    {
      "cell_type": "code",
      "source": [
        "discrete_variable = ['SEX', 'EDUCATION', 'MARRIAGE', 'AGE', 'PAY_0', 'PAY_2',\n",
        "       'PAY_3', 'PAY_4', 'PAY_5', 'PAY_6']"
      ],
      "metadata": {
        "id": "zsLeGry1_Ql2"
      },
      "execution_count": 21,
      "outputs": []
    },
    {
      "cell_type": "code",
      "source": [
        "len(discrete_variable)"
      ],
      "metadata": {
        "colab": {
          "base_uri": "https://localhost:8080/"
        },
        "id": "atiOgXOQBMQt",
        "outputId": "b1a23888-87f1-4601-877f-e0372e324955"
      },
      "execution_count": 22,
      "outputs": [
        {
          "output_type": "execute_result",
          "data": {
            "text/plain": [
              "10"
            ]
          },
          "metadata": {},
          "execution_count": 22
        }
      ]
    },
    {
      "cell_type": "markdown",
      "source": [
        "### What all manipulations have you done and insights you found?"
      ],
      "metadata": {
        "id": "MSa1f5Uengrz"
      }
    },
    {
      "cell_type": "markdown",
      "source": [
        "I have drop the column \"ID\",Rename the column \"default payment next month\" to \"IsDefaulter\" and separated continous & discrete variables"
      ],
      "metadata": {
        "id": "LbyXE7I1olp8"
      }
    },
    {
      "cell_type": "markdown",
      "source": [
        "## ***4. Data Vizualization, Storytelling & Experimenting with charts : Understand the relationships between variables***"
      ],
      "metadata": {
        "id": "GF8Ens_Soomf"
      }
    },
    {
      "cell_type": "markdown",
      "source": [
        "###**UNIVARIATE ANALYSIS**"
      ],
      "metadata": {
        "id": "bwryuy_S-P4d"
      }
    },
    {
      "cell_type": "markdown",
      "source": [
        "#### Chart - 1"
      ],
      "metadata": {
        "id": "0wOQAZs5pc--"
      }
    },
    {
      "cell_type": "code",
      "source": [
        "# Chart - 1 visualization code\n",
        "plt.figure(figsize = (15,6))\n",
        "sns.histplot(data = df,x = 'LIMIT_BAL',kde = True,color = 'deeppink',bins = 15)\n",
        "plt.title('Histplot of Limit Balance')\n",
        "plt.show()\n",
        "\n",
        "print(\" \")\n",
        "skewness = df['LIMIT_BAL'].skew()\n",
        "print(f'Skewness of data is {skewness}')"
      ],
      "metadata": {
        "id": "7v_ESjsspbW7",
        "colab": {
          "base_uri": "https://localhost:8080/",
          "height": 476
        },
        "outputId": "28d2b506-a08e-4fc5-9ea6-b595b53eb0a4"
      },
      "execution_count": 101,
      "outputs": [
        {
          "output_type": "display_data",
          "data": {
            "text/plain": [
              "<Figure size 1080x432 with 1 Axes>"
            ],
            "image/png": "[encoded data removed]"
          },
          "metadata": {}
        },
        {
          "output_type": "stream",
          "name": "stdout",
          "text": [
            " \n",
            "Skewness of data is 0.992866960519544\n"
          ]
        }
      ]
    },
    {
      "cell_type": "markdown",
      "source": [
        "##### 1. Why did you pick the specific chart?"
      ],
      "metadata": {
        "id": "K5QZ13OEpz2H"
      }
    },
    {
      "cell_type": "markdown",
      "source": [
        "I have used Histplot because it is a powerful tool for understanding the distribution of a variable by showing the frequency of different values.It also hepls to understand the central tendency of the data and whether the data is skewed or symmetric."
      ],
      "metadata": {
        "id": "XESiWehPqBRc"
      }
    },
    {
      "cell_type": "markdown",
      "source": [
        "##### 2. What is/are the insight(s) found from the chart?"
      ],
      "metadata": {
        "id": "lQ7QKXXCp7Bj"
      }
    },
    {
      "cell_type": "markdown",
      "source": [
        "A skewness value of 0.9928 suggests that the data is highly skewed, meaning that most of the data is concentrated on one side of the distribution.There are extreme values or outliers in the data that are pulling the mean in one direction.Also data has a long tail in one direction, which could indicate that there are a few very large value that are distorting the overall distribution."
      ],
      "metadata": {
        "id": "C_j1G7yiqdRP"
      }
    },
    {
      "cell_type": "markdown",
      "source": [
        "##### 3. Will the gained insights help creating a positive business impact? \n",
        "Are there any insights that lead to negative growth? Justify with specific reason."
      ],
      "metadata": {
        "id": "448CDAPjqfQr"
      }
    },
    {
      "cell_type": "markdown",
      "source": [
        "A histogram of \"limit_bal\" can show the overall distribution of credit amounts, which can help to identify patterns and trends in how credit is being used.A skewness value of 0.9928 suggests that the data is highly skewed, meaning that most of the data is concentrated on one side of the distribution, it could indicate that the issuer is giving out a lot of credit to a small number of customers, which could be an indication of a higher risk of default. This could be an indication that the issuer should be more cautious when approving credit to certain customers."
      ],
      "metadata": {
        "id": "3cspy4FjqxJW"
      }
    },
    {
      "cell_type": "markdown",
      "source": [
        "#### Chart - 2"
      ],
      "metadata": {
        "id": "KSlN3yHqYklG"
      }
    },
    {
      "cell_type": "code",
      "source": [
        "df.head()"
      ],
      "metadata": {
        "colab": {
          "base_uri": "https://localhost:8080/",
          "height": 270
        },
        "id": "gYaKTxdEimsj",
        "outputId": "c04cf95d-a88c-4836-da73-803241f66cae"
      },
      "execution_count": 94,
      "outputs": [
        {
          "output_type": "execute_result",
          "data": {
            "text/plain": [
              "   LIMIT_BAL  SEX  EDUCATION  MARRIAGE  AGE  PAY_0  PAY_2  PAY_3  PAY_4  \\\n",
              "0      20000    2          2         1   24      2      2     -1     -1   \n",
              "1     120000    2          2         2   26     -1      2      0      0   \n",
              "2      90000    2          2         2   34      0      0      0      0   \n",
              "3      50000    2          2         1   37      0      0      0      0   \n",
              "4      50000    1          2         1   57     -1      0     -1      0   \n",
              "\n",
              "   PAY_5  PAY_6  BILL_AMT1  BILL_AMT2  BILL_AMT3  BILL_AMT4  BILL_AMT5  \\\n",
              "0     -2     -2       3913       3102        689          0          0   \n",
              "1      0      2       2682       1725       2682       3272       3455   \n",
              "2      0      0      29239      14027      13559      14331      14948   \n",
              "3      0      0      46990      48233      49291      28314      28959   \n",
              "4      0      0       8617       5670      35835      20940      19146   \n",
              "\n",
              "   BILL_AMT6  PAY_AMT1  PAY_AMT2  PAY_AMT3  PAY_AMT4  PAY_AMT5  PAY_AMT6  \\\n",
              "0          0         0       689         0         0         0         0   \n",
              "1       3261         0      1000      1000      1000         0      2000   \n",
              "2      15549      1518      1500      1000      1000      1000      5000   \n",
              "3      29547      2000      2019      1200      1100      1069      1000   \n",
              "4      19131      2000     36681     10000      9000       689       679   \n",
              "\n",
              "   IsDefaulter  \n",
              "0            1  \n",
              "1            1  \n",
              "2            0  \n",
              "3            0  \n",
              "4            0  "
            ],
            "text/html": [
              "\n",
              "  <div id=\"df-b41ad828-22a5-4f84-9de1-b8d8227faa0b\">\n",
              "    <div class=\"colab-df-container\">\n",
              "      <div>\n",
              "<style scoped>\n",
              "    .dataframe tbody tr th:only-of-type {\n",
              "        vertical-align: middle;\n",
              "    }\n",
              "\n",
              "    .dataframe tbody tr th {\n",
              "        vertical-align: top;\n",
              "    }\n",
              "\n",
              "    .dataframe thead th {\n",
              "        text-align: right;\n",
              "    }\n",
              "</style>\n",
              "<table border=\"1\" class=\"dataframe\">\n",
              "  <thead>\n",
              "    <tr style=\"text-align: right;\">\n",
              "      <th></th>\n",
              "      <th>LIMIT_BAL</th>\n",
              "      <th>SEX</th>\n",
              "      <th>EDUCATION</th>\n",
              "      <th>MARRIAGE</th>\n",
              "      <th>AGE</th>\n",
              "      <th>PAY_0</th>\n",
              "      <th>PAY_2</th>\n",
              "      <th>PAY_3</th>\n",
              "      <th>PAY_4</th>\n",
              "      <th>PAY_5</th>\n",
              "      <th>PAY_6</th>\n",
              "      <th>BILL_AMT1</th>\n",
              "      <th>BILL_AMT2</th>\n",
              "      <th>BILL_AMT3</th>\n",
              "      <th>BILL_AMT4</th>\n",
              "      <th>BILL_AMT5</th>\n",
              "      <th>BILL_AMT6</th>\n",
              "      <th>PAY_AMT1</th>\n",
              "      <th>PAY_AMT2</th>\n",
              "      <th>PAY_AMT3</th>\n",
              "      <th>PAY_AMT4</th>\n",
              "      <th>PAY_AMT5</th>\n",
              "      <th>PAY_AMT6</th>\n",
              "      <th>IsDefaulter</th>\n",
              "    </tr>\n",
              "  </thead>\n",
              "  <tbody>\n",
              "    <tr>\n",
              "      <th>0</th>\n",
              "      <td>20000</td>\n",
              "      <td>2</td>\n",
              "      <td>2</td>\n",
              "      <td>1</td>\n",
              "      <td>24</td>\n",
              "      <td>2</td>\n",
              "      <td>2</td>\n",
              "      <td>-1</td>\n",
              "      <td>-1</td>\n",
              "      <td>-2</td>\n",
              "      <td>-2</td>\n",
              "      <td>3913</td>\n",
              "      <td>3102</td>\n",
              "      <td>689</td>\n",
              "      <td>0</td>\n",
              "      <td>0</td>\n",
              "      <td>0</td>\n",
              "      <td>0</td>\n",
              "      <td>689</td>\n",
              "      <td>0</td>\n",
              "      <td>0</td>\n",
              "      <td>0</td>\n",
              "      <td>0</td>\n",
              "      <td>1</td>\n",
              "    </tr>\n",
              "    <tr>\n",
              "      <th>1</th>\n",
              "      <td>120000</td>\n",
              "      <td>2</td>\n",
              "      <td>2</td>\n",
              "      <td>2</td>\n",
              "      <td>26</td>\n",
              "      <td>-1</td>\n",
              "      <td>2</td>\n",
              "      <td>0</td>\n",
              "      <td>0</td>\n",
              "      <td>0</td>\n",
              "      <td>2</td>\n",
              "      <td>2682</td>\n",
              "      <td>1725</td>\n",
              "      <td>2682</td>\n",
              "      <td>3272</td>\n",
              "      <td>3455</td>\n",
              "      <td>3261</td>\n",
              "      <td>0</td>\n",
              "      <td>1000</td>\n",
              "      <td>1000</td>\n",
              "      <td>1000</td>\n",
              "      <td>0</td>\n",
              "      <td>2000</td>\n",
              "      <td>1</td>\n",
              "    </tr>\n",
              "    <tr>\n",
              "      <th>2</th>\n",
              "      <td>90000</td>\n",
              "      <td>2</td>\n",
              "      <td>2</td>\n",
              "      <td>2</td>\n",
              "      <td>34</td>\n",
              "      <td>0</td>\n",
              "      <td>0</td>\n",
              "      <td>0</td>\n",
              "      <td>0</td>\n",
              "      <td>0</td>\n",
              "      <td>0</td>\n",
              "      <td>29239</td>\n",
              "      <td>14027</td>\n",
              "      <td>13559</td>\n",
              "      <td>14331</td>\n",
              "      <td>14948</td>\n",
              "      <td>15549</td>\n",
              "      <td>1518</td>\n",
              "      <td>1500</td>\n",
              "      <td>1000</td>\n",
              "      <td>1000</td>\n",
              "      <td>1000</td>\n",
              "      <td>5000</td>\n",
              "      <td>0</td>\n",
              "    </tr>\n",
              "    <tr>\n",
              "      <th>3</th>\n",
              "      <td>50000</td>\n",
              "      <td>2</td>\n",
              "      <td>2</td>\n",
              "      <td>1</td>\n",
              "      <td>37</td>\n",
              "      <td>0</td>\n",
              "      <td>0</td>\n",
              "      <td>0</td>\n",
              "      <td>0</td>\n",
              "      <td>0</td>\n",
              "      <td>0</td>\n",
              "      <td>46990</td>\n",
              "      <td>48233</td>\n",
              "      <td>49291</td>\n",
              "      <td>28314</td>\n",
              "      <td>28959</td>\n",
              "      <td>29547</td>\n",
              "      <td>2000</td>\n",
              "      <td>2019</td>\n",
              "      <td>1200</td>\n",
              "      <td>1100</td>\n",
              "      <td>1069</td>\n",
              "      <td>1000</td>\n",
              "      <td>0</td>\n",
              "    </tr>\n",
              "    <tr>\n",
              "      <th>4</th>\n",
              "      <td>50000</td>\n",
              "      <td>1</td>\n",
              "      <td>2</td>\n",
              "      <td>1</td>\n",
              "      <td>57</td>\n",
              "      <td>-1</td>\n",
              "      <td>0</td>\n",
              "      <td>-1</td>\n",
              "      <td>0</td>\n",
              "      <td>0</td>\n",
              "      <td>0</td>\n",
              "      <td>8617</td>\n",
              "      <td>5670</td>\n",
              "      <td>35835</td>\n",
              "      <td>20940</td>\n",
              "      <td>19146</td>\n",
              "      <td>19131</td>\n",
              "      <td>2000</td>\n",
              "      <td>36681</td>\n",
              "      <td>10000</td>\n",
              "      <td>9000</td>\n",
              "      <td>689</td>\n",
              "      <td>679</td>\n",
              "      <td>0</td>\n",
              "    </tr>\n",
              "  </tbody>\n",
              "</table>\n",
              "</div>\n",
              "      <button class=\"colab-df-convert\" onclick=\"convertToInteractive('df-b41ad828-22a5-4f84-9de1-b8d8227faa0b')\"\n",
              "              title=\"Convert this dataframe to an interactive table.\"\n",
              "              style=\"display:none;\">\n",
              "        \n",
              "  <svg xmlns=\"http://www.w3.org/2000/svg\" height=\"24px\"viewBox=\"0 0 24 24\"\n",
              "       width=\"24px\">\n",
              "    <path d=\"M0 0h24v24H0V0z\" fill=\"none\"/>\n",
              "    <path d=\"M18.56 5.44l.94 2.06.94-2.06 2.06-.94-2.06-.94-.94-2.06-.94 2.06-2.06.94zm-11 1L8.5 8.5l.94-2.06 2.06-.94-2.06-.94L8.5 2.5l-.94 2.06-2.06.94zm10 10l.94 2.06.94-2.06 2.06-.94-2.06-.94-.94-2.06-.94 2.06-2.06.94z\"/><path d=\"M17.41 7.96l-1.37-1.37c-.4-.4-.92-.59-1.43-.59-.52 0-1.04.2-1.43.59L10.3 9.45l-7.72 7.72c-.78.78-.78 2.05 0 2.83L4 21.41c.39.39.9.59 1.41.59.51 0 1.02-.2 1.41-.59l7.78-7.78 2.81-2.81c.8-.78.8-2.07 0-2.86zM5.41 20L4 18.59l7.72-7.72 1.47 1.35L5.41 20z\"/>\n",
              "  </svg>\n",
              "      </button>\n",
              "      \n",
              "  <style>\n",
              "    .colab-df-container {\n",
              "      display:flex;\n",
              "      flex-wrap:wrap;\n",
              "      gap: 12px;\n",
              "    }\n",
              "\n",
              "    .colab-df-convert {\n",
              "      background-color: #E8F0FE;\n",
              "      border: none;\n",
              "      border-radius: 50%;\n",
              "      cursor: pointer;\n",
              "      display: none;\n",
              "      fill: #1967D2;\n",
              "      height: 32px;\n",
              "      padding: 0 0 0 0;\n",
              "      width: 32px;\n",
              "    }\n",
              "\n",
              "    .colab-df-convert:hover {\n",
              "      background-color: #E2EBFA;\n",
              "      box-shadow: 0px 1px 2px rgba(60, 64, 67, 0.3), 0px 1px 3px 1px rgba(60, 64, 67, 0.15);\n",
              "      fill: #174EA6;\n",
              "    }\n",
              "\n",
              "    [theme=dark] .colab-df-convert {\n",
              "      background-color: #3B4455;\n",
              "      fill: #D2E3FC;\n",
              "    }\n",
              "\n",
              "    [theme=dark] .colab-df-convert:hover {\n",
              "      background-color: #434B5C;\n",
              "      box-shadow: 0px 1px 3px 1px rgba(0, 0, 0, 0.15);\n",
              "      filter: drop-shadow(0px 1px 2px rgba(0, 0, 0, 0.3));\n",
              "      fill: #FFFFFF;\n",
              "    }\n",
              "  </style>\n",
              "\n",
              "      <script>\n",
              "        const buttonEl =\n",
              "          document.querySelector('#df-b41ad828-22a5-4f84-9de1-b8d8227faa0b button.colab-df-convert');\n",
              "        buttonEl.style.display =\n",
              "          google.colab.kernel.accessAllowed ? 'block' : 'none';\n",
              "\n",
              "        async function convertToInteractive(key) {\n",
              "          const element = document.querySelector('#df-b41ad828-22a5-4f84-9de1-b8d8227faa0b');\n",
              "          const dataTable =\n",
              "            await google.colab.kernel.invokeFunction('convertToInteractive',\n",
              "                                                     [key], {});\n",
              "          if (!dataTable) return;\n",
              "\n",
              "          const docLinkHtml = 'Like what you see? Visit the ' +\n",
              "            '<a target=\"_blank\" href=https://colab.research.google.com/notebooks/data_table.ipynb>data table notebook</a>'\n",
              "            + ' to learn more about interactive tables.';\n",
              "          element.innerHTML = '';\n",
              "          dataTable['output_type'] = 'display_data';\n",
              "          await google.colab.output.renderOutput(dataTable, element);\n",
              "          const docLink = document.createElement('div');\n",
              "          docLink.innerHTML = docLinkHtml;\n",
              "          element.appendChild(docLink);\n",
              "        }\n",
              "      </script>\n",
              "    </div>\n",
              "  </div>\n",
              "  "
            ]
          },
          "metadata": {},
          "execution_count": 94
        }
      ]
    },
    {
      "cell_type": "code",
      "source": [
        "# Chart - 2 visualization code\n",
        "plt.figure(figsize = (15,6))\n",
        "sns.histplot(data = df,x = 'AGE',kde = True,color = 'deeppink',bins = 15)\n",
        "plt.title('Histplot of Limit Balance')\n",
        "plt.show()\n",
        "\n",
        "print(\" \")\n",
        "skewness = df['AGE'].skew()\n",
        "print(f'Skewness of data is {skewness}')"
      ],
      "metadata": {
        "id": "R4YgtaqtYklH",
        "colab": {
          "base_uri": "https://localhost:8080/",
          "height": 476
        },
        "outputId": "ed85d805-b721-4990-9f9e-759d132b49eb"
      },
      "execution_count": 102,
      "outputs": [
        {
          "output_type": "display_data",
          "data": {
            "text/plain": [
              "<Figure size 1080x432 with 1 Axes>"
            ],
            "image/png": "[encoded data removed]"
          },
          "metadata": {}
        },
        {
          "output_type": "stream",
          "name": "stdout",
          "text": [
            " \n",
            "Skewness of data is 0.7322458687830562\n"
          ]
        }
      ]
    },
    {
      "cell_type": "markdown",
      "source": [
        "##### 2. What is/are the insight(s) found from the chart?"
      ],
      "metadata": {
        "id": "ijmpgYnKYklI"
      }
    },
    {
      "cell_type": "markdown",
      "source": [
        "A skewness value of 0.7322 suggests that the data is moderately skewed, meaning that the data is concentrated on one side of the distribution. It could indicate that the issuer is giving out credit to a specific age group, which could be an indication of a higher risk of default. This could be an indication that the issuer should be more cautious when approving credit to certain age groups."
      ],
      "metadata": {
        "id": "PSx9atu2YklI"
      }
    },
    {
      "cell_type": "markdown",
      "source": [
        "#### Chart - 3"
      ],
      "metadata": {
        "id": "EM7whBJCYoAo"
      }
    },
    {
      "cell_type": "code",
      "source": [
        "# Chart - 3 visualization code"
      ],
      "metadata": {
        "id": "t6GMdE67YoAp"
      },
      "execution_count": 25,
      "outputs": []
    },
    {
      "cell_type": "markdown",
      "source": [
        "##### 1. Why did you pick the specific chart?"
      ],
      "metadata": {
        "id": "fge-S5ZAYoAp"
      }
    },
    {
      "cell_type": "markdown",
      "source": [
        "Answer Here."
      ],
      "metadata": {
        "id": "5dBItgRVYoAp"
      }
    },
    {
      "cell_type": "markdown",
      "source": [
        "##### 2. What is/are the insight(s) found from the chart?"
      ],
      "metadata": {
        "id": "85gYPyotYoAp"
      }
    },
    {
      "cell_type": "markdown",
      "source": [
        "Answer Here"
      ],
      "metadata": {
        "id": "4jstXR6OYoAp"
      }
    },
    {
      "cell_type": "markdown",
      "source": [
        "##### 3. Will the gained insights help creating a positive business impact? \n",
        "Are there any insights that lead to negative growth? Justify with specific reason."
      ],
      "metadata": {
        "id": "RoGjAbkUYoAp"
      }
    },
    {
      "cell_type": "markdown",
      "source": [
        "Answer Here"
      ],
      "metadata": {
        "id": "zfJ8IqMcYoAp"
      }
    },
    {
      "cell_type": "markdown",
      "source": [
        "#### Chart - 4"
      ],
      "metadata": {
        "id": "4Of9eVA-YrdM"
      }
    },
    {
      "cell_type": "code",
      "source": [
        "# Chart - 4 visualization code"
      ],
      "metadata": {
        "id": "irlUoxc8YrdO"
      },
      "execution_count": 26,
      "outputs": []
    },
    {
      "cell_type": "markdown",
      "source": [
        "##### 1. Why did you pick the specific chart?"
      ],
      "metadata": {
        "id": "iky9q4vBYrdO"
      }
    },
    {
      "cell_type": "markdown",
      "source": [
        "Answer Here."
      ],
      "metadata": {
        "id": "aJRCwT6DYrdO"
      }
    },
    {
      "cell_type": "markdown",
      "source": [
        "##### 2. What is/are the insight(s) found from the chart?"
      ],
      "metadata": {
        "id": "F6T5p64dYrdO"
      }
    },
    {
      "cell_type": "markdown",
      "source": [
        "Answer Here"
      ],
      "metadata": {
        "id": "Xx8WAJvtYrdO"
      }
    },
    {
      "cell_type": "markdown",
      "source": [
        "##### 3. Will the gained insights help creating a positive business impact? \n",
        "Are there any insights that lead to negative growth? Justify with specific reason."
      ],
      "metadata": {
        "id": "y-Ehk30pYrdP"
      }
    },
    {
      "cell_type": "markdown",
      "source": [
        "Answer Here"
      ],
      "metadata": {
        "id": "jLNxxz7MYrdP"
      }
    },
    {
      "cell_type": "markdown",
      "source": [
        "#### Chart - 5"
      ],
      "metadata": {
        "id": "bamQiAODYuh1"
      }
    },
    {
      "cell_type": "code",
      "source": [
        "# Chart - 5 visualization code"
      ],
      "metadata": {
        "id": "TIJwrbroYuh3"
      },
      "execution_count": 27,
      "outputs": []
    },
    {
      "cell_type": "markdown",
      "source": [
        "##### 1. Why did you pick the specific chart?"
      ],
      "metadata": {
        "id": "QHF8YVU7Yuh3"
      }
    },
    {
      "cell_type": "markdown",
      "source": [
        "Answer Here."
      ],
      "metadata": {
        "id": "dcxuIMRPYuh3"
      }
    },
    {
      "cell_type": "markdown",
      "source": [
        "##### 2. What is/are the insight(s) found from the chart?"
      ],
      "metadata": {
        "id": "GwzvFGzlYuh3"
      }
    },
    {
      "cell_type": "markdown",
      "source": [
        "Answer Here"
      ],
      "metadata": {
        "id": "uyqkiB8YYuh3"
      }
    },
    {
      "cell_type": "markdown",
      "source": [
        "##### 3. Will the gained insights help creating a positive business impact? \n",
        "Are there any insights that lead to negative growth? Justify with specific reason."
      ],
      "metadata": {
        "id": "qYpmQ266Yuh3"
      }
    },
    {
      "cell_type": "markdown",
      "source": [
        "Answer Here"
      ],
      "metadata": {
        "id": "_WtzZ_hCYuh4"
      }
    },
    {
      "cell_type": "markdown",
      "source": [
        "#### Chart - 6"
      ],
      "metadata": {
        "id": "OH-pJp9IphqM"
      }
    },
    {
      "cell_type": "code",
      "source": [
        "# Chart - 6 visualization code"
      ],
      "metadata": {
        "id": "kuRf4wtuphqN"
      },
      "execution_count": 28,
      "outputs": []
    },
    {
      "cell_type": "markdown",
      "source": [
        "##### 1. Why did you pick the specific chart?"
      ],
      "metadata": {
        "id": "bbFf2-_FphqN"
      }
    },
    {
      "cell_type": "markdown",
      "source": [
        "Answer Here."
      ],
      "metadata": {
        "id": "loh7H2nzphqN"
      }
    },
    {
      "cell_type": "markdown",
      "source": [
        "##### 2. What is/are the insight(s) found from the chart?"
      ],
      "metadata": {
        "id": "_ouA3fa0phqN"
      }
    },
    {
      "cell_type": "markdown",
      "source": [
        "Answer Here"
      ],
      "metadata": {
        "id": "VECbqPI7phqN"
      }
    },
    {
      "cell_type": "markdown",
      "source": [
        "##### 3. Will the gained insights help creating a positive business impact? \n",
        "Are there any insights that lead to negative growth? Justify with specific reason."
      ],
      "metadata": {
        "id": "Seke61FWphqN"
      }
    },
    {
      "cell_type": "markdown",
      "source": [
        "Answer Here"
      ],
      "metadata": {
        "id": "DW4_bGpfphqN"
      }
    },
    {
      "cell_type": "markdown",
      "source": [
        "#### Chart - 7"
      ],
      "metadata": {
        "id": "PIIx-8_IphqN"
      }
    },
    {
      "cell_type": "code",
      "source": [
        "# Chart - 7 visualization code"
      ],
      "metadata": {
        "id": "lqAIGUfyphqO"
      },
      "execution_count": 29,
      "outputs": []
    },
    {
      "cell_type": "markdown",
      "source": [
        "##### 1. Why did you pick the specific chart?"
      ],
      "metadata": {
        "id": "t27r6nlMphqO"
      }
    },
    {
      "cell_type": "markdown",
      "source": [
        "Answer Here."
      ],
      "metadata": {
        "id": "iv6ro40sphqO"
      }
    },
    {
      "cell_type": "markdown",
      "source": [
        "##### 2. What is/are the insight(s) found from the chart?"
      ],
      "metadata": {
        "id": "r2jJGEOYphqO"
      }
    },
    {
      "cell_type": "markdown",
      "source": [
        "Answer Here"
      ],
      "metadata": {
        "id": "Po6ZPi4hphqO"
      }
    },
    {
      "cell_type": "markdown",
      "source": [
        "##### 3. Will the gained insights help creating a positive business impact? \n",
        "Are there any insights that lead to negative growth? Justify with specific reason."
      ],
      "metadata": {
        "id": "b0JNsNcRphqO"
      }
    },
    {
      "cell_type": "markdown",
      "source": [
        "Answer Here"
      ],
      "metadata": {
        "id": "xvSq8iUTphqO"
      }
    },
    {
      "cell_type": "markdown",
      "source": [
        "#### Chart - 8"
      ],
      "metadata": {
        "id": "BZR9WyysphqO"
      }
    },
    {
      "cell_type": "code",
      "source": [
        "# Chart - 8 visualization code"
      ],
      "metadata": {
        "id": "TdPTWpAVphqO"
      },
      "execution_count": 30,
      "outputs": []
    },
    {
      "cell_type": "markdown",
      "source": [
        "##### 1. Why did you pick the specific chart?"
      ],
      "metadata": {
        "id": "jj7wYXLtphqO"
      }
    },
    {
      "cell_type": "markdown",
      "source": [
        "Answer Here."
      ],
      "metadata": {
        "id": "Ob8u6rCTphqO"
      }
    },
    {
      "cell_type": "markdown",
      "source": [
        "##### 2. What is/are the insight(s) found from the chart?"
      ],
      "metadata": {
        "id": "eZrbJ2SmphqO"
      }
    },
    {
      "cell_type": "markdown",
      "source": [
        "Answer Here"
      ],
      "metadata": {
        "id": "mZtgC_hjphqO"
      }
    },
    {
      "cell_type": "markdown",
      "source": [
        "##### 3. Will the gained insights help creating a positive business impact? \n",
        "Are there any insights that lead to negative growth? Justify with specific reason."
      ],
      "metadata": {
        "id": "rFu4xreNphqO"
      }
    },
    {
      "cell_type": "markdown",
      "source": [
        "Answer Here"
      ],
      "metadata": {
        "id": "ey_0qi68phqO"
      }
    },
    {
      "cell_type": "markdown",
      "source": [
        "#### Chart - 9"
      ],
      "metadata": {
        "id": "YJ55k-q6phqO"
      }
    },
    {
      "cell_type": "code",
      "source": [
        "# Chart - 9 visualization code"
      ],
      "metadata": {
        "id": "B2aS4O1ophqO"
      },
      "execution_count": 31,
      "outputs": []
    },
    {
      "cell_type": "markdown",
      "source": [
        "##### 1. Why did you pick the specific chart?"
      ],
      "metadata": {
        "id": "gCFgpxoyphqP"
      }
    },
    {
      "cell_type": "markdown",
      "source": [
        "Answer Here."
      ],
      "metadata": {
        "id": "TVxDimi2phqP"
      }
    },
    {
      "cell_type": "markdown",
      "source": [
        "##### 2. What is/are the insight(s) found from the chart?"
      ],
      "metadata": {
        "id": "OVtJsKN_phqQ"
      }
    },
    {
      "cell_type": "markdown",
      "source": [
        "Answer Here"
      ],
      "metadata": {
        "id": "ngGi97qjphqQ"
      }
    },
    {
      "cell_type": "markdown",
      "source": [
        "##### 3. Will the gained insights help creating a positive business impact? \n",
        "Are there any insights that lead to negative growth? Justify with specific reason."
      ],
      "metadata": {
        "id": "lssrdh5qphqQ"
      }
    },
    {
      "cell_type": "markdown",
      "source": [
        "Answer Here"
      ],
      "metadata": {
        "id": "tBpY5ekJphqQ"
      }
    },
    {
      "cell_type": "markdown",
      "source": [
        "#### Chart - 10"
      ],
      "metadata": {
        "id": "U2RJ9gkRphqQ"
      }
    },
    {
      "cell_type": "code",
      "source": [
        "# Chart - 10 visualization code"
      ],
      "metadata": {
        "id": "GM7a4YP4phqQ"
      },
      "execution_count": 32,
      "outputs": []
    },
    {
      "cell_type": "markdown",
      "source": [
        "##### 1. Why did you pick the specific chart?"
      ],
      "metadata": {
        "id": "1M8mcRywphqQ"
      }
    },
    {
      "cell_type": "markdown",
      "source": [
        "Answer Here."
      ],
      "metadata": {
        "id": "8agQvks0phqQ"
      }
    },
    {
      "cell_type": "markdown",
      "source": [
        "##### 2. What is/are the insight(s) found from the chart?"
      ],
      "metadata": {
        "id": "tgIPom80phqQ"
      }
    },
    {
      "cell_type": "markdown",
      "source": [
        "Answer Here"
      ],
      "metadata": {
        "id": "Qp13pnNzphqQ"
      }
    },
    {
      "cell_type": "markdown",
      "source": [
        "##### 3. Will the gained insights help creating a positive business impact? \n",
        "Are there any insights that lead to negative growth? Justify with specific reason."
      ],
      "metadata": {
        "id": "JMzcOPDDphqR"
      }
    },
    {
      "cell_type": "markdown",
      "source": [
        "Answer Here"
      ],
      "metadata": {
        "id": "R4Ka1PC2phqR"
      }
    },
    {
      "cell_type": "markdown",
      "source": [
        "#### Chart - 11"
      ],
      "metadata": {
        "id": "x-EpHcCOp1ci"
      }
    },
    {
      "cell_type": "code",
      "source": [
        "# Chart - 11 visualization code"
      ],
      "metadata": {
        "id": "mAQTIvtqp1cj"
      },
      "execution_count": 33,
      "outputs": []
    },
    {
      "cell_type": "markdown",
      "source": [
        "##### 1. Why did you pick the specific chart?"
      ],
      "metadata": {
        "id": "X_VqEhTip1ck"
      }
    },
    {
      "cell_type": "markdown",
      "source": [
        "Answer Here."
      ],
      "metadata": {
        "id": "-vsMzt_np1ck"
      }
    },
    {
      "cell_type": "markdown",
      "source": [
        "##### 2. What is/are the insight(s) found from the chart?"
      ],
      "metadata": {
        "id": "8zGJKyg5p1ck"
      }
    },
    {
      "cell_type": "markdown",
      "source": [
        "Answer Here"
      ],
      "metadata": {
        "id": "ZYdMsrqVp1ck"
      }
    },
    {
      "cell_type": "markdown",
      "source": [
        "##### 3. Will the gained insights help creating a positive business impact? \n",
        "Are there any insights that lead to negative growth? Justify with specific reason."
      ],
      "metadata": {
        "id": "PVzmfK_Ep1ck"
      }
    },
    {
      "cell_type": "markdown",
      "source": [
        "Answer Here"
      ],
      "metadata": {
        "id": "druuKYZpp1ck"
      }
    },
    {
      "cell_type": "markdown",
      "source": [
        "#### Chart - 12"
      ],
      "metadata": {
        "id": "n3dbpmDWp1ck"
      }
    },
    {
      "cell_type": "code",
      "source": [
        "# Chart - 12 visualization code"
      ],
      "metadata": {
        "id": "bwevp1tKp1ck"
      },
      "execution_count": 34,
      "outputs": []
    },
    {
      "cell_type": "markdown",
      "source": [
        "##### 1. Why did you pick the specific chart?"
      ],
      "metadata": {
        "id": "ylSl6qgtp1ck"
      }
    },
    {
      "cell_type": "markdown",
      "source": [
        "Answer Here."
      ],
      "metadata": {
        "id": "m2xqNkiQp1ck"
      }
    },
    {
      "cell_type": "markdown",
      "source": [
        "##### 2. What is/are the insight(s) found from the chart?"
      ],
      "metadata": {
        "id": "ZWILFDl5p1ck"
      }
    },
    {
      "cell_type": "markdown",
      "source": [
        "Answer Here"
      ],
      "metadata": {
        "id": "x-lUsV2mp1ck"
      }
    },
    {
      "cell_type": "markdown",
      "source": [
        "##### 3. Will the gained insights help creating a positive business impact? \n",
        "Are there any insights that lead to negative growth? Justify with specific reason."
      ],
      "metadata": {
        "id": "M7G43BXep1ck"
      }
    },
    {
      "cell_type": "markdown",
      "source": [
        "Answer Here"
      ],
      "metadata": {
        "id": "5wwDJXsLp1cl"
      }
    },
    {
      "cell_type": "markdown",
      "source": [
        "#### Chart - 13"
      ],
      "metadata": {
        "id": "Ag9LCva-p1cl"
      }
    },
    {
      "cell_type": "code",
      "source": [
        "# Chart - 13 visualization code"
      ],
      "metadata": {
        "id": "EUfxeq9-p1cl"
      },
      "execution_count": 35,
      "outputs": []
    },
    {
      "cell_type": "markdown",
      "source": [
        "##### 1. Why did you pick the specific chart?"
      ],
      "metadata": {
        "id": "E6MkPsBcp1cl"
      }
    },
    {
      "cell_type": "markdown",
      "source": [
        "Answer Here."
      ],
      "metadata": {
        "id": "V22bRsFWp1cl"
      }
    },
    {
      "cell_type": "markdown",
      "source": [
        "##### 2. What is/are the insight(s) found from the chart?"
      ],
      "metadata": {
        "id": "2cELzS2fp1cl"
      }
    },
    {
      "cell_type": "markdown",
      "source": [
        "Answer Here"
      ],
      "metadata": {
        "id": "ozQPc2_Ip1cl"
      }
    },
    {
      "cell_type": "markdown",
      "source": [
        "##### 3. Will the gained insights help creating a positive business impact? \n",
        "Are there any insights that lead to negative growth? Justify with specific reason."
      ],
      "metadata": {
        "id": "3MPXvC8up1cl"
      }
    },
    {
      "cell_type": "markdown",
      "source": [
        "Answer Here"
      ],
      "metadata": {
        "id": "GL8l1tdLp1cl"
      }
    },
    {
      "cell_type": "markdown",
      "source": [
        "#### Chart - 14 - Correlation Heatmap"
      ],
      "metadata": {
        "id": "NC_X3p0fY2L0"
      }
    },
    {
      "cell_type": "code",
      "source": [
        "# Correlation Heatmap visualization code"
      ],
      "metadata": {
        "id": "xyC9zolEZNRQ"
      },
      "execution_count": 36,
      "outputs": []
    },
    {
      "cell_type": "markdown",
      "source": [
        "##### 1. Why did you pick the specific chart?"
      ],
      "metadata": {
        "id": "UV0SzAkaZNRQ"
      }
    },
    {
      "cell_type": "markdown",
      "source": [
        "Answer Here."
      ],
      "metadata": {
        "id": "DVPuT8LYZNRQ"
      }
    },
    {
      "cell_type": "markdown",
      "source": [
        "##### 2. What is/are the insight(s) found from the chart?"
      ],
      "metadata": {
        "id": "YPEH6qLeZNRQ"
      }
    },
    {
      "cell_type": "markdown",
      "source": [
        "Answer Here"
      ],
      "metadata": {
        "id": "bfSqtnDqZNRR"
      }
    },
    {
      "cell_type": "markdown",
      "source": [
        "#### Chart - 15 - Pair Plot "
      ],
      "metadata": {
        "id": "q29F0dvdveiT"
      }
    },
    {
      "cell_type": "code",
      "source": [
        "# Pair Plot visualization code"
      ],
      "metadata": {
        "id": "o58-TEIhveiU"
      },
      "execution_count": 37,
      "outputs": []
    },
    {
      "cell_type": "markdown",
      "source": [
        "##### 1. Why did you pick the specific chart?"
      ],
      "metadata": {
        "id": "EXh0U9oCveiU"
      }
    },
    {
      "cell_type": "markdown",
      "source": [
        "Answer Here."
      ],
      "metadata": {
        "id": "eMmPjTByveiU"
      }
    },
    {
      "cell_type": "markdown",
      "source": [
        "##### 2. What is/are the insight(s) found from the chart?"
      ],
      "metadata": {
        "id": "22aHeOlLveiV"
      }
    },
    {
      "cell_type": "markdown",
      "source": [
        "Answer Here"
      ],
      "metadata": {
        "id": "uPQ8RGwHveiV"
      }
    },
    {
      "cell_type": "markdown",
      "source": [
        "## ***5. Hypothesis Testing***"
      ],
      "metadata": {
        "id": "g-ATYxFrGrvw"
      }
    },
    {
      "cell_type": "markdown",
      "source": [
        "### Based on your chart experiments, define three hypothetical statements from the dataset. In the next three questions, perform hypothesis testing to obtain final conclusion about the statements through your code and statistical testing."
      ],
      "metadata": {
        "id": "Yfr_Vlr8HBkt"
      }
    },
    {
      "cell_type": "markdown",
      "source": [
        "Answer Here."
      ],
      "metadata": {
        "id": "-7MS06SUHkB-"
      }
    },
    {
      "cell_type": "markdown",
      "source": [
        "### Hypothetical Statement - 1"
      ],
      "metadata": {
        "id": "8yEUt7NnHlrM"
      }
    },
    {
      "cell_type": "markdown",
      "source": [
        "#### 1. State Your research hypothesis as a null hypothesis and alternate hypothesis."
      ],
      "metadata": {
        "id": "tEA2Xm5dHt1r"
      }
    },
    {
      "cell_type": "markdown",
      "source": [
        "Answer Here."
      ],
      "metadata": {
        "id": "HI9ZP0laH0D-"
      }
    },
    {
      "cell_type": "markdown",
      "source": [
        "#### 2. Perform an appropriate statistical test."
      ],
      "metadata": {
        "id": "I79__PHVH19G"
      }
    },
    {
      "cell_type": "code",
      "source": [
        "# Perform Statistical Test to obtain P-Value"
      ],
      "metadata": {
        "id": "oZrfquKtyian"
      },
      "execution_count": 38,
      "outputs": []
    },
    {
      "cell_type": "markdown",
      "source": [
        "##### Which statistical test have you done to obtain P-Value?"
      ],
      "metadata": {
        "id": "Ou-I18pAyIpj"
      }
    },
    {
      "cell_type": "markdown",
      "source": [
        "Answer Here."
      ],
      "metadata": {
        "id": "s2U0kk00ygSB"
      }
    },
    {
      "cell_type": "markdown",
      "source": [
        "##### Why did you choose the specific statistical test?"
      ],
      "metadata": {
        "id": "fF3858GYyt-u"
      }
    },
    {
      "cell_type": "markdown",
      "source": [
        "Answer Here."
      ],
      "metadata": {
        "id": "HO4K0gP5y3B4"
      }
    },
    {
      "cell_type": "markdown",
      "source": [
        "### Hypothetical Statement - 2"
      ],
      "metadata": {
        "id": "4_0_7-oCpUZd"
      }
    },
    {
      "cell_type": "markdown",
      "source": [
        "#### 1. State Your research hypothesis as a null hypothesis and alternate hypothesis."
      ],
      "metadata": {
        "id": "hwyV_J3ipUZe"
      }
    },
    {
      "cell_type": "markdown",
      "source": [
        "Answer Here."
      ],
      "metadata": {
        "id": "FnpLGJ-4pUZe"
      }
    },
    {
      "cell_type": "markdown",
      "source": [
        "#### 2. Perform an appropriate statistical test."
      ],
      "metadata": {
        "id": "3yB-zSqbpUZe"
      }
    },
    {
      "cell_type": "code",
      "source": [
        "# Perform Statistical Test to obtain P-Value"
      ],
      "metadata": {
        "id": "sWxdNTXNpUZe"
      },
      "execution_count": 39,
      "outputs": []
    },
    {
      "cell_type": "markdown",
      "source": [
        "##### Which statistical test have you done to obtain P-Value?"
      ],
      "metadata": {
        "id": "dEUvejAfpUZe"
      }
    },
    {
      "cell_type": "markdown",
      "source": [
        "Answer Here."
      ],
      "metadata": {
        "id": "oLDrPz7HpUZf"
      }
    },
    {
      "cell_type": "markdown",
      "source": [
        "##### Why did you choose the specific statistical test?"
      ],
      "metadata": {
        "id": "Fd15vwWVpUZf"
      }
    },
    {
      "cell_type": "markdown",
      "source": [
        "Answer Here."
      ],
      "metadata": {
        "id": "4xOGYyiBpUZf"
      }
    },
    {
      "cell_type": "markdown",
      "source": [
        "### Hypothetical Statement - 3"
      ],
      "metadata": {
        "id": "bn_IUdTipZyH"
      }
    },
    {
      "cell_type": "markdown",
      "source": [
        "#### 1. State Your research hypothesis as a null hypothesis and alternate hypothesis."
      ],
      "metadata": {
        "id": "49K5P_iCpZyH"
      }
    },
    {
      "cell_type": "markdown",
      "source": [
        "Answer Here."
      ],
      "metadata": {
        "id": "7gWI5rT9pZyH"
      }
    },
    {
      "cell_type": "markdown",
      "source": [
        "#### 2. Perform an appropriate statistical test."
      ],
      "metadata": {
        "id": "Nff-vKELpZyI"
      }
    },
    {
      "cell_type": "code",
      "source": [
        "# Perform Statistical Test to obtain P-Value"
      ],
      "metadata": {
        "id": "s6AnJQjtpZyI"
      },
      "execution_count": 40,
      "outputs": []
    },
    {
      "cell_type": "markdown",
      "source": [
        "##### Which statistical test have you done to obtain P-Value?"
      ],
      "metadata": {
        "id": "kLW572S8pZyI"
      }
    },
    {
      "cell_type": "markdown",
      "source": [
        "Answer Here."
      ],
      "metadata": {
        "id": "ytWJ8v15pZyI"
      }
    },
    {
      "cell_type": "markdown",
      "source": [
        "##### Why did you choose the specific statistical test?"
      ],
      "metadata": {
        "id": "dWbDXHzopZyI"
      }
    },
    {
      "cell_type": "markdown",
      "source": [
        "Answer Here."
      ],
      "metadata": {
        "id": "M99G98V6pZyI"
      }
    },
    {
      "cell_type": "markdown",
      "source": [
        "## ***6. Feature Engineering & Data Pre-processing***"
      ],
      "metadata": {
        "id": "yLjJCtPM0KBk"
      }
    },
    {
      "cell_type": "markdown",
      "source": [
        "### 1. Handling Missing Values"
      ],
      "metadata": {
        "id": "xiyOF9F70UgQ"
      }
    },
    {
      "cell_type": "code",
      "source": [
        "# Handling Missing Values & Missing Value Imputation"
      ],
      "metadata": {
        "id": "iRsAHk1K0fpS"
      },
      "execution_count": 41,
      "outputs": []
    },
    {
      "cell_type": "markdown",
      "source": [
        "#### What all missing value imputation techniques have you used and why did you use those techniques?"
      ],
      "metadata": {
        "id": "7wuGOrhz0itI"
      }
    },
    {
      "cell_type": "markdown",
      "source": [
        "Answer Here."
      ],
      "metadata": {
        "id": "1ixusLtI0pqI"
      }
    },
    {
      "cell_type": "markdown",
      "source": [
        "### 2. Handling Outliers"
      ],
      "metadata": {
        "id": "id1riN9m0vUs"
      }
    },
    {
      "cell_type": "code",
      "source": [
        "# Handling Outliers & Outlier treatments"
      ],
      "metadata": {
        "id": "M6w2CzZf04JK"
      },
      "execution_count": 42,
      "outputs": []
    },
    {
      "cell_type": "markdown",
      "source": [
        "##### What all outlier treatment techniques have you used and why did you use those techniques?"
      ],
      "metadata": {
        "id": "578E2V7j08f6"
      }
    },
    {
      "cell_type": "markdown",
      "source": [
        "Answer Here."
      ],
      "metadata": {
        "id": "uGZz5OrT1HH-"
      }
    },
    {
      "cell_type": "markdown",
      "source": [
        "### 3. Categorical Encoding"
      ],
      "metadata": {
        "id": "89xtkJwZ18nB"
      }
    },
    {
      "cell_type": "code",
      "source": [
        "# Encode your categorical columns"
      ],
      "metadata": {
        "id": "21JmIYMG2hEo"
      },
      "execution_count": 43,
      "outputs": []
    },
    {
      "cell_type": "markdown",
      "source": [
        "#### What all categorical encoding techniques have you used & why did you use those techniques?"
      ],
      "metadata": {
        "id": "67NQN5KX2AMe"
      }
    },
    {
      "cell_type": "markdown",
      "source": [
        "Answer Here."
      ],
      "metadata": {
        "id": "UDaue5h32n_G"
      }
    },
    {
      "cell_type": "markdown",
      "source": [
        "### 4. Textual Data Preprocessing \n",
        "(It's mandatory for textual dataset i.e., NLP, Sentiment Analysis, Text Clustering etc.)"
      ],
      "metadata": {
        "id": "Iwf50b-R2tYG"
      }
    },
    {
      "cell_type": "markdown",
      "source": [
        "#### 1. Expand Contraction"
      ],
      "metadata": {
        "id": "GMQiZwjn3iu7"
      }
    },
    {
      "cell_type": "code",
      "source": [
        "# Expand Contraction"
      ],
      "metadata": {
        "id": "PTouz10C3oNN"
      },
      "execution_count": 44,
      "outputs": []
    },
    {
      "cell_type": "markdown",
      "source": [
        "#### 2. Lower Casing"
      ],
      "metadata": {
        "id": "WVIkgGqN3qsr"
      }
    },
    {
      "cell_type": "code",
      "source": [
        "# Lower Casing"
      ],
      "metadata": {
        "id": "88JnJ1jN3w7j"
      },
      "execution_count": 45,
      "outputs": []
    },
    {
      "cell_type": "markdown",
      "source": [
        "#### 3. Removing Punctuations"
      ],
      "metadata": {
        "id": "XkPnILGE3zoT"
      }
    },
    {
      "cell_type": "code",
      "source": [
        "# Remove Punctuations"
      ],
      "metadata": {
        "id": "vqbBqNaA33c0"
      },
      "execution_count": 46,
      "outputs": []
    },
    {
      "cell_type": "markdown",
      "source": [
        "#### 4. Removing URLs & Removing words and digits contain digits."
      ],
      "metadata": {
        "id": "Hlsf0x5436Go"
      }
    },
    {
      "cell_type": "code",
      "source": [
        "# Remove URLs & Remove words and digits contain digits"
      ],
      "metadata": {
        "id": "2sxKgKxu4Ip3"
      },
      "execution_count": 47,
      "outputs": []
    },
    {
      "cell_type": "markdown",
      "source": [
        "#### 5. Removing Stopwords & Removing White spaces"
      ],
      "metadata": {
        "id": "mT9DMSJo4nBL"
      }
    },
    {
      "cell_type": "code",
      "source": [
        "# Remove Stopwords"
      ],
      "metadata": {
        "id": "T2LSJh154s8W"
      },
      "execution_count": 48,
      "outputs": []
    },
    {
      "cell_type": "code",
      "source": [
        "# Remove White spaces"
      ],
      "metadata": {
        "id": "EgLJGffy4vm0"
      },
      "execution_count": 49,
      "outputs": []
    },
    {
      "cell_type": "markdown",
      "source": [
        "#### 6. Rephrase Text"
      ],
      "metadata": {
        "id": "c49ITxTc407N"
      }
    },
    {
      "cell_type": "code",
      "source": [
        "# Rephrase Text"
      ],
      "metadata": {
        "id": "foqY80Qu48N2"
      },
      "execution_count": 50,
      "outputs": []
    },
    {
      "cell_type": "markdown",
      "source": [
        "#### 7. Tokenization"
      ],
      "metadata": {
        "id": "OeJFEK0N496M"
      }
    },
    {
      "cell_type": "code",
      "source": [
        "# Tokenization"
      ],
      "metadata": {
        "id": "ijx1rUOS5CUU"
      },
      "execution_count": 51,
      "outputs": []
    },
    {
      "cell_type": "markdown",
      "source": [
        "#### 8. Text Normalization"
      ],
      "metadata": {
        "id": "9ExmJH0g5HBk"
      }
    },
    {
      "cell_type": "code",
      "source": [
        "# Normalizing Text (i.e., Stemming, Lemmatization etc.)"
      ],
      "metadata": {
        "id": "AIJ1a-Zc5PY8"
      },
      "execution_count": 52,
      "outputs": []
    },
    {
      "cell_type": "markdown",
      "source": [
        "##### Which text normalization technique have you used and why?"
      ],
      "metadata": {
        "id": "cJNqERVU536h"
      }
    },
    {
      "cell_type": "markdown",
      "source": [
        "Answer Here."
      ],
      "metadata": {
        "id": "Z9jKVxE06BC1"
      }
    },
    {
      "cell_type": "markdown",
      "source": [
        "#### 9. Part of speech tagging"
      ],
      "metadata": {
        "id": "k5UmGsbsOxih"
      }
    },
    {
      "cell_type": "code",
      "source": [
        "# POS Taging"
      ],
      "metadata": {
        "id": "btT3ZJBAO6Ik"
      },
      "execution_count": 53,
      "outputs": []
    },
    {
      "cell_type": "markdown",
      "source": [
        "#### 10. Text Vectorization"
      ],
      "metadata": {
        "id": "T0VqWOYE6DLQ"
      }
    },
    {
      "cell_type": "code",
      "source": [
        "# Vectorizing Text"
      ],
      "metadata": {
        "id": "yBRtdhth6JDE"
      },
      "execution_count": 54,
      "outputs": []
    },
    {
      "cell_type": "markdown",
      "source": [
        "##### Which text vectorization technique have you used and why?"
      ],
      "metadata": {
        "id": "qBMux9mC6MCf"
      }
    },
    {
      "cell_type": "markdown",
      "source": [
        "Answer Here."
      ],
      "metadata": {
        "id": "su2EnbCh6UKQ"
      }
    },
    {
      "cell_type": "markdown",
      "source": [
        "### 4. Feature Manipulation & Selection"
      ],
      "metadata": {
        "id": "-oLEiFgy-5Pf"
      }
    },
    {
      "cell_type": "markdown",
      "source": [
        "#### 1. Feature Manipulation"
      ],
      "metadata": {
        "id": "C74aWNz2AliB"
      }
    },
    {
      "cell_type": "code",
      "source": [
        "# Manipulate Features to minimize feature correlation and create new features"
      ],
      "metadata": {
        "id": "h1qC4yhBApWC"
      },
      "execution_count": 55,
      "outputs": []
    },
    {
      "cell_type": "markdown",
      "source": [
        "#### 2. Feature Selection"
      ],
      "metadata": {
        "id": "2DejudWSA-a0"
      }
    },
    {
      "cell_type": "code",
      "source": [
        "# Select your features wisely to avoid overfitting"
      ],
      "metadata": {
        "id": "YLhe8UmaBCEE"
      },
      "execution_count": 56,
      "outputs": []
    },
    {
      "cell_type": "markdown",
      "source": [
        "##### What all feature selection methods have you used  and why?"
      ],
      "metadata": {
        "id": "pEMng2IbBLp7"
      }
    },
    {
      "cell_type": "markdown",
      "source": [
        "Answer Here."
      ],
      "metadata": {
        "id": "rb2Lh6Z8BgGs"
      }
    },
    {
      "cell_type": "markdown",
      "source": [
        "##### Which all features you found important and why?"
      ],
      "metadata": {
        "id": "rAdphbQ9Bhjc"
      }
    },
    {
      "cell_type": "markdown",
      "source": [
        "Answer Here."
      ],
      "metadata": {
        "id": "fGgaEstsBnaf"
      }
    },
    {
      "cell_type": "markdown",
      "source": [
        "### 5. Data Transformation"
      ],
      "metadata": {
        "id": "TNVZ9zx19K6k"
      }
    },
    {
      "cell_type": "markdown",
      "source": [
        "#### Do you think that your data needs to be transformed? If yes, which transformation have you used. Explain Why?"
      ],
      "metadata": {
        "id": "nqoHp30x9hH9"
      }
    },
    {
      "cell_type": "code",
      "source": [
        "# Transform Your data"
      ],
      "metadata": {
        "id": "I6quWQ1T9rtH"
      },
      "execution_count": 57,
      "outputs": []
    },
    {
      "cell_type": "markdown",
      "source": [
        "### 6. Data Scaling"
      ],
      "metadata": {
        "id": "rMDnDkt2B6du"
      }
    },
    {
      "cell_type": "code",
      "source": [
        "# Scaling your data"
      ],
      "metadata": {
        "id": "dL9LWpySC6x_"
      },
      "execution_count": 58,
      "outputs": []
    },
    {
      "cell_type": "markdown",
      "source": [
        "##### Which method have you used to scale you data and why?"
      ],
      "metadata": {
        "id": "yiiVWRdJDDil"
      }
    },
    {
      "cell_type": "markdown",
      "source": [
        "### 7. Dimesionality Reduction"
      ],
      "metadata": {
        "id": "1UUpS68QDMuG"
      }
    },
    {
      "cell_type": "markdown",
      "source": [
        "##### Do you think that dimensionality reduction is needed? Explain Why?"
      ],
      "metadata": {
        "id": "kexQrXU-DjzY"
      }
    },
    {
      "cell_type": "markdown",
      "source": [
        "Answer Here."
      ],
      "metadata": {
        "id": "GGRlBsSGDtTQ"
      }
    },
    {
      "cell_type": "code",
      "source": [
        "# DImensionality Reduction (If needed)"
      ],
      "metadata": {
        "id": "kQfvxBBHDvCa"
      },
      "execution_count": 59,
      "outputs": []
    },
    {
      "cell_type": "markdown",
      "source": [
        "##### Which dimensionality reduction technique have you used and why? (If dimensionality reduction done on dataset.)"
      ],
      "metadata": {
        "id": "T5CmagL3EC8N"
      }
    },
    {
      "cell_type": "markdown",
      "source": [
        "Answer Here."
      ],
      "metadata": {
        "id": "ZKr75IDuEM7t"
      }
    },
    {
      "cell_type": "markdown",
      "source": [
        "### 8. Data Splitting"
      ],
      "metadata": {
        "id": "BhH2vgX9EjGr"
      }
    },
    {
      "cell_type": "code",
      "source": [
        "# Split your data to train and test. Choose Splitting ratio wisely."
      ],
      "metadata": {
        "id": "0CTyd2UwEyNM"
      },
      "execution_count": 60,
      "outputs": []
    },
    {
      "cell_type": "markdown",
      "source": [
        "##### What data splitting ratio have you used and why? "
      ],
      "metadata": {
        "id": "qjKvONjwE8ra"
      }
    },
    {
      "cell_type": "markdown",
      "source": [
        "Answer Here."
      ],
      "metadata": {
        "id": "Y2lJ8cobFDb_"
      }
    },
    {
      "cell_type": "markdown",
      "source": [
        "### 9. Handling Imbalanced Dataset"
      ],
      "metadata": {
        "id": "P1XJ9OREExlT"
      }
    },
    {
      "cell_type": "markdown",
      "source": [
        "##### Do you think the dataset is imbalanced? Explain Why."
      ],
      "metadata": {
        "id": "VFOzZv6IFROw"
      }
    },
    {
      "cell_type": "markdown",
      "source": [
        "Answer Here."
      ],
      "metadata": {
        "id": "GeKDIv7pFgcC"
      }
    },
    {
      "cell_type": "code",
      "source": [
        "# Handling Imbalanced Dataset (If needed)"
      ],
      "metadata": {
        "id": "nQsRhhZLFiDs"
      },
      "execution_count": 61,
      "outputs": []
    },
    {
      "cell_type": "markdown",
      "source": [
        "##### What technique did you use to handle the imbalance dataset and why? (If needed to be balanced)"
      ],
      "metadata": {
        "id": "TIqpNgepFxVj"
      }
    },
    {
      "cell_type": "markdown",
      "source": [
        "Answer Here."
      ],
      "metadata": {
        "id": "qbet1HwdGDTz"
      }
    },
    {
      "cell_type": "markdown",
      "source": [
        "## ***7. ML Model Implementation***"
      ],
      "metadata": {
        "id": "VfCC591jGiD4"
      }
    },
    {
      "cell_type": "markdown",
      "source": [
        "### ML Model - 1"
      ],
      "metadata": {
        "id": "OB4l2ZhMeS1U"
      }
    },
    {
      "cell_type": "code",
      "source": [
        "# ML Model - 1 Implementation\n",
        "\n",
        "# Fit the Algorithm\n",
        "\n",
        "# Predict on the model"
      ],
      "metadata": {
        "id": "7ebyywQieS1U"
      },
      "execution_count": 62,
      "outputs": []
    },
    {
      "cell_type": "markdown",
      "source": [
        "#### 1. Explain the ML Model used and it's performance using Evaluation metric Score Chart."
      ],
      "metadata": {
        "id": "ArJBuiUVfxKd"
      }
    },
    {
      "cell_type": "code",
      "source": [
        "# Visualizing evaluation Metric Score chart"
      ],
      "metadata": {
        "id": "rqD5ZohzfxKe"
      },
      "execution_count": 63,
      "outputs": []
    },
    {
      "cell_type": "markdown",
      "source": [
        "#### 2. Cross- Validation & Hyperparameter Tuning"
      ],
      "metadata": {
        "id": "4qY1EAkEfxKe"
      }
    },
    {
      "cell_type": "code",
      "source": [
        "# ML Model - 1 Implementation with hyperparameter optimization techniques (i.e., GridSearch CV, RandomSearch CV, Bayesian Optimization etc.)\n",
        "\n",
        "# Fit the Algorithm\n",
        "\n",
        "# Predict on the model"
      ],
      "metadata": {
        "id": "Dy61ujd6fxKe"
      },
      "execution_count": 64,
      "outputs": []
    },
    {
      "cell_type": "markdown",
      "source": [
        "##### Which hyperparameter optimization technique have you used and why?"
      ],
      "metadata": {
        "id": "PiV4Ypx8fxKe"
      }
    },
    {
      "cell_type": "markdown",
      "source": [
        "Answer Here."
      ],
      "metadata": {
        "id": "negyGRa7fxKf"
      }
    },
    {
      "cell_type": "markdown",
      "source": [
        "##### Have you seen any improvement? Note down the improvement with updates Evaluation metric Score Chart."
      ],
      "metadata": {
        "id": "TfvqoZmBfxKf"
      }
    },
    {
      "cell_type": "markdown",
      "source": [
        "Answer Here."
      ],
      "metadata": {
        "id": "OaLui8CcfxKf"
      }
    },
    {
      "cell_type": "markdown",
      "source": [
        "### ML Model - 2"
      ],
      "metadata": {
        "id": "dJ2tPlVmpsJ0"
      }
    },
    {
      "cell_type": "markdown",
      "source": [
        "#### 1. Explain the ML Model used and it's performance using Evaluation metric Score Chart."
      ],
      "metadata": {
        "id": "JWYfwnehpsJ1"
      }
    },
    {
      "cell_type": "code",
      "source": [
        "# Visualizing evaluation Metric Score chart"
      ],
      "metadata": {
        "id": "yEl-hgQWpsJ1"
      },
      "execution_count": 65,
      "outputs": []
    },
    {
      "cell_type": "markdown",
      "source": [
        "#### 2. Cross- Validation & Hyperparameter Tuning"
      ],
      "metadata": {
        "id": "-jK_YjpMpsJ2"
      }
    },
    {
      "cell_type": "code",
      "source": [
        "# ML Model - 1 Implementation with hyperparameter optimization techniques (i.e., GridSearch CV, RandomSearch CV, Bayesian Optimization etc.)\n",
        "\n",
        "# Fit the Algorithm\n",
        "\n",
        "# Predict on the model"
      ],
      "metadata": {
        "id": "Dn0EOfS6psJ2"
      },
      "execution_count": 66,
      "outputs": []
    },
    {
      "cell_type": "markdown",
      "source": [
        "##### Which hyperparameter optimization technique have you used and why?"
      ],
      "metadata": {
        "id": "HAih1iBOpsJ2"
      }
    },
    {
      "cell_type": "markdown",
      "source": [
        "Answer Here."
      ],
      "metadata": {
        "id": "9kBgjYcdpsJ2"
      }
    },
    {
      "cell_type": "markdown",
      "source": [
        "##### Have you seen any improvement? Note down the improvement with updates Evaluation metric Score Chart."
      ],
      "metadata": {
        "id": "zVGeBEFhpsJ2"
      }
    },
    {
      "cell_type": "markdown",
      "source": [
        "Answer Here."
      ],
      "metadata": {
        "id": "74yRdG6UpsJ3"
      }
    },
    {
      "cell_type": "markdown",
      "source": [
        "#### 3. Explain each evaluation metric's indication towards business and the business impact pf the ML model used."
      ],
      "metadata": {
        "id": "bmKjuQ-FpsJ3"
      }
    },
    {
      "cell_type": "markdown",
      "source": [
        "Answer Here."
      ],
      "metadata": {
        "id": "BDKtOrBQpsJ3"
      }
    },
    {
      "cell_type": "markdown",
      "source": [
        "### ML Model - 3"
      ],
      "metadata": {
        "id": "Fze-IPXLpx6K"
      }
    },
    {
      "cell_type": "code",
      "source": [
        "# ML Model - 3 Implementation\n",
        "\n",
        "# Fit the Algorithm\n",
        "\n",
        "# Predict on the model"
      ],
      "metadata": {
        "id": "FFrSXAtrpx6M"
      },
      "execution_count": 67,
      "outputs": []
    },
    {
      "cell_type": "markdown",
      "source": [
        "#### 1. Explain the ML Model used and it's performance using Evaluation metric Score Chart."
      ],
      "metadata": {
        "id": "7AN1z2sKpx6M"
      }
    },
    {
      "cell_type": "code",
      "source": [
        "# Visualizing evaluation Metric Score chart"
      ],
      "metadata": {
        "id": "xIY4lxxGpx6M"
      },
      "execution_count": 68,
      "outputs": []
    },
    {
      "cell_type": "markdown",
      "source": [
        "#### 2. Cross- Validation & Hyperparameter Tuning"
      ],
      "metadata": {
        "id": "9PIHJqyupx6M"
      }
    },
    {
      "cell_type": "code",
      "source": [
        "# ML Model - 3 Implementation with hyperparameter optimization techniques (i.e., GridSearch CV, RandomSearch CV, Bayesian Optimization etc.)\n",
        "\n",
        "# Fit the Algorithm\n",
        "\n",
        "# Predict on the model"
      ],
      "metadata": {
        "id": "eSVXuaSKpx6M"
      },
      "execution_count": 69,
      "outputs": []
    },
    {
      "cell_type": "markdown",
      "source": [
        "##### Which hyperparameter optimization technique have you used and why?"
      ],
      "metadata": {
        "id": "_-qAgymDpx6N"
      }
    },
    {
      "cell_type": "markdown",
      "source": [
        "Answer Here."
      ],
      "metadata": {
        "id": "lQMffxkwpx6N"
      }
    },
    {
      "cell_type": "markdown",
      "source": [
        "##### Have you seen any improvement? Note down the improvement with updates Evaluation metric Score Chart."
      ],
      "metadata": {
        "id": "Z-hykwinpx6N"
      }
    },
    {
      "cell_type": "markdown",
      "source": [
        "Answer Here."
      ],
      "metadata": {
        "id": "MzVzZC6opx6N"
      }
    },
    {
      "cell_type": "markdown",
      "source": [
        "### 1. Which Evaluation metrics did you consider for a positive business impact and why?"
      ],
      "metadata": {
        "id": "h_CCil-SKHpo"
      }
    },
    {
      "cell_type": "markdown",
      "source": [
        "Answer Here."
      ],
      "metadata": {
        "id": "jHVz9hHDKFms"
      }
    },
    {
      "cell_type": "markdown",
      "source": [
        "### 2. Which ML model did you choose from the above created models as your final prediction model and why?"
      ],
      "metadata": {
        "id": "cBFFvTBNJzUa"
      }
    },
    {
      "cell_type": "markdown",
      "source": [
        "Answer Here."
      ],
      "metadata": {
        "id": "6ksF5Q1LKTVm"
      }
    },
    {
      "cell_type": "markdown",
      "source": [
        "### 3. Explain the model which you have used and the feature importance using any model explainability tool?"
      ],
      "metadata": {
        "id": "HvGl1hHyA_VK"
      }
    },
    {
      "cell_type": "markdown",
      "source": [
        "Answer Here."
      ],
      "metadata": {
        "id": "YnvVTiIxBL-C"
      }
    },
    {
      "cell_type": "markdown",
      "source": [
        "## ***8.*** ***Future Work (Optional)***"
      ],
      "metadata": {
        "id": "EyNgTHvd2WFk"
      }
    },
    {
      "cell_type": "markdown",
      "source": [
        "### 1. Save the best performing ml model in a pickle file or joblib file format for deployment process.\n"
      ],
      "metadata": {
        "id": "KH5McJBi2d8v"
      }
    },
    {
      "cell_type": "code",
      "source": [
        "# Save the File"
      ],
      "metadata": {
        "id": "bQIANRl32f4J"
      },
      "execution_count": 70,
      "outputs": []
    },
    {
      "cell_type": "markdown",
      "source": [
        "### 2. Again Load the saved model file and try to predict unseen data for a sanity check.\n"
      ],
      "metadata": {
        "id": "iW_Lq9qf2h6X"
      }
    },
    {
      "cell_type": "code",
      "source": [
        "# Load the File and predict unseen data."
      ],
      "metadata": {
        "id": "oEXk9ydD2nVC"
      },
      "execution_count": 71,
      "outputs": []
    },
    {
      "cell_type": "markdown",
      "source": [
        "### ***Congrats! Your model is successfully created and ready for deployment on a live server for a real user interaction !!!***"
      ],
      "metadata": {
        "id": "-Kee-DAl2viO"
      }
    },
    {
      "cell_type": "markdown",
      "source": [
        "# **Conclusion**"
      ],
      "metadata": {
        "id": "gCX9965dhzqZ"
      }
    },
    {
      "cell_type": "markdown",
      "source": [
        "Write the conclusion here."
      ],
      "metadata": {
        "id": "Fjb1IsQkh3yE"
      }
    },
    {
      "cell_type": "markdown",
      "source": [
        "### ***Hurrah! You have successfully completed your Machine Learning Capstone Project !!!***"
      ],
      "metadata": {
        "id": "gIfDvo9L0UH2"
      }
    }
  ]
}